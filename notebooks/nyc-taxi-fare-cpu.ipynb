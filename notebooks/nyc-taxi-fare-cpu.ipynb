{
 "cells": [
  {
   "cell_type": "markdown",
   "metadata": {
    "papermill": {
     "duration": 0.027632,
     "end_time": "2020-12-05T21:12:05.307914",
     "exception": false,
     "start_time": "2020-12-05T21:12:05.280282",
     "status": "completed"
    },
    "tags": []
   },
   "source": [
    "# NYC Taxi Fare Prediction"
   ]
  },
  {
   "cell_type": "code",
   "execution_count": 14,
   "metadata": {
    "_cell_guid": "79c7e3d0-c299-4dcb-8224-4455121ee9b0",
    "_uuid": "d629ff2d2480ee46fbb7e2d37f6b5fab8052498a",
    "papermill": {
     "duration": 2.351567,
     "end_time": "2020-12-05T21:12:07.687733",
     "exception": false,
     "start_time": "2020-12-05T21:12:05.336166",
     "status": "completed"
    },
    "tags": []
   },
   "outputs": [],
   "source": [
    "import os\n",
    "os.environ[\"MODIN_ENGINE\"] = \"ray\"\n",
    "import numpy as np\n",
    "import modin.pandas as pd\n",
    "from scipy import stats\n",
    "import geopy.distance\n",
    "from scipy.stats import norm, skew\n",
    "from sklearn import preprocessing\n",
    "from sklearn.metrics import r2_score\n",
    "from sklearn.metrics import mean_squared_error\n",
    "from sklearn.model_selection import train_test_split\n",
    "from xgboost import XGBRegressor, plot_importance\n",
    "from sklearn.model_selection import GridSearchCV\n",
    "from sklearn.model_selection import RandomizedSearchCV\n",
    "from sklearn.model_selection import RepeatedStratifiedKFold\n",
    "from sklearn.model_selection import StratifiedKFold\n",
    "from sklearn.model_selection import KFold\n",
    "import xgboost as xgb"
   ]
  },
  {
   "cell_type": "code",
   "execution_count": 15,
   "metadata": {
    "papermill": {
     "duration": 13.985303,
     "end_time": "2020-12-05T21:12:21.700995",
     "exception": false,
     "start_time": "2020-12-05T21:12:07.715692",
     "status": "completed"
    },
    "tags": []
   },
   "outputs": [
    {
     "data": {
      "text/plain": [
       "(55423856, 8)"
      ]
     },
     "execution_count": 15,
     "metadata": {},
     "output_type": "execute_result"
    }
   ],
   "source": [
    "df = pd.read_csv('../data/train.csv')\n",
    "df = df.sample(frac=0.1)\n",
    "test_df = pd.read_csv('../data/test.csv')\n",
    "test_df = df.sample(frac=0.1)\n",
    "df.shape"
   ]
  },
  {
   "cell_type": "code",
   "execution_count": 3,
   "metadata": {
    "papermill": {
     "duration": 0.05838,
     "end_time": "2020-12-05T21:12:21.786794",
     "exception": false,
     "start_time": "2020-12-05T21:12:21.728414",
     "status": "completed"
    },
    "tags": []
   },
   "outputs": [
    {
     "data": {
      "text/html": [
       "<div>\n",
       "<style scoped>\n",
       "    .dataframe tbody tr th:only-of-type {\n",
       "        vertical-align: middle;\n",
       "    }\n",
       "\n",
       "    .dataframe tbody tr th {\n",
       "        vertical-align: top;\n",
       "    }\n",
       "\n",
       "    .dataframe thead th {\n",
       "        text-align: right;\n",
       "    }\n",
       "</style>\n",
       "<table border=\"1\" class=\"dataframe\">\n",
       "  <thead>\n",
       "    <tr style=\"text-align: right;\">\n",
       "      <th></th>\n",
       "      <th>key</th>\n",
       "      <th>fare_amount</th>\n",
       "      <th>pickup_datetime</th>\n",
       "      <th>pickup_longitude</th>\n",
       "      <th>pickup_latitude</th>\n",
       "      <th>dropoff_longitude</th>\n",
       "      <th>dropoff_latitude</th>\n",
       "      <th>passenger_count</th>\n",
       "    </tr>\n",
       "  </thead>\n",
       "  <tbody>\n",
       "    <tr>\n",
       "      <th>0</th>\n",
       "      <td>2014-11-29 02:25:34.0000003</td>\n",
       "      <td>8.0</td>\n",
       "      <td>2014-11-29 02:25:34 UTC</td>\n",
       "      <td>-73.997652</td>\n",
       "      <td>40.720614</td>\n",
       "      <td>-73.997613</td>\n",
       "      <td>40.739611</td>\n",
       "      <td>1</td>\n",
       "    </tr>\n",
       "    <tr>\n",
       "      <th>1</th>\n",
       "      <td>2009-03-18 20:31:12.0000003</td>\n",
       "      <td>15.0</td>\n",
       "      <td>2009-03-18 20:31:12 UTC</td>\n",
       "      <td>-74.005140</td>\n",
       "      <td>40.733440</td>\n",
       "      <td>-73.979652</td>\n",
       "      <td>40.787983</td>\n",
       "      <td>1</td>\n",
       "    </tr>\n",
       "    <tr>\n",
       "      <th>2</th>\n",
       "      <td>2011-11-17 18:28:20.0000005</td>\n",
       "      <td>11.7</td>\n",
       "      <td>2011-11-17 18:28:20 UTC</td>\n",
       "      <td>-73.996736</td>\n",
       "      <td>40.763419</td>\n",
       "      <td>-73.960357</td>\n",
       "      <td>40.769577</td>\n",
       "      <td>1</td>\n",
       "    </tr>\n",
       "    <tr>\n",
       "      <th>3</th>\n",
       "      <td>2014-02-06 11:12:00.000000144</td>\n",
       "      <td>6.0</td>\n",
       "      <td>2014-02-06 11:12:00 UTC</td>\n",
       "      <td>-73.980562</td>\n",
       "      <td>40.755187</td>\n",
       "      <td>-73.987870</td>\n",
       "      <td>40.743105</td>\n",
       "      <td>1</td>\n",
       "    </tr>\n",
       "    <tr>\n",
       "      <th>4</th>\n",
       "      <td>2015-02-11 09:17:31.0000001</td>\n",
       "      <td>13.0</td>\n",
       "      <td>2015-02-11 09:17:31 UTC</td>\n",
       "      <td>-73.969574</td>\n",
       "      <td>40.785194</td>\n",
       "      <td>-73.982025</td>\n",
       "      <td>40.754986</td>\n",
       "      <td>2</td>\n",
       "    </tr>\n",
       "  </tbody>\n",
       "</table>\n",
       "</div>"
      ],
      "text/plain": [
       "                             key  fare_amount          pickup_datetime  \\\n",
       "0    2014-11-29 02:25:34.0000003          8.0  2014-11-29 02:25:34 UTC   \n",
       "1    2009-03-18 20:31:12.0000003         15.0  2009-03-18 20:31:12 UTC   \n",
       "2    2011-11-17 18:28:20.0000005         11.7  2011-11-17 18:28:20 UTC   \n",
       "3  2014-02-06 11:12:00.000000144          6.0  2014-02-06 11:12:00 UTC   \n",
       "4    2015-02-11 09:17:31.0000001         13.0  2015-02-11 09:17:31 UTC   \n",
       "\n",
       "   pickup_longitude  pickup_latitude  dropoff_longitude  dropoff_latitude  \\\n",
       "0        -73.997652        40.720614         -73.997613         40.739611   \n",
       "1        -74.005140        40.733440         -73.979652         40.787983   \n",
       "2        -73.996736        40.763419         -73.960357         40.769577   \n",
       "3        -73.980562        40.755187         -73.987870         40.743105   \n",
       "4        -73.969574        40.785194         -73.982025         40.754986   \n",
       "\n",
       "   passenger_count  \n",
       "0                1  \n",
       "1                1  \n",
       "2                1  \n",
       "3                1  \n",
       "4                2  "
      ]
     },
     "execution_count": 3,
     "metadata": {},
     "output_type": "execute_result"
    }
   ],
   "source": [
    "df.head()"
   ]
  },
  {
   "cell_type": "code",
   "execution_count": 4,
   "metadata": {
    "papermill": {
     "duration": 0.401679,
     "end_time": "2020-12-05T21:12:23.221446",
     "exception": false,
     "start_time": "2020-12-05T21:12:22.819767",
     "status": "completed"
    },
    "tags": []
   },
   "outputs": [],
   "source": [
    "df.dropna(subset=['dropoff_latitude', 'dropoff_longitude'], inplace = True)"
   ]
  },
  {
   "cell_type": "code",
   "execution_count": 5,
   "metadata": {
    "papermill": {
     "duration": 1.459676,
     "end_time": "2020-12-05T21:12:25.731911",
     "exception": false,
     "start_time": "2020-12-05T21:12:24.272235",
     "status": "completed"
    },
    "tags": []
   },
   "outputs": [],
   "source": [
    "df.drop(df[df['fare_amount'] < 2.5].index, axis=0, inplace = True)\n",
    "df.drop(df[df['fare_amount'] > 500].index, axis=0, inplace = True)\n",
    "df.drop(df[df['pickup_longitude'] == 0].index, axis=0, inplace = True)\n",
    "df.drop(df[df['pickup_latitude'] == 0].index, axis=0, inplace = True)\n",
    "df.drop(df[df['dropoff_longitude'] == 0].index, axis=0, inplace = True)\n",
    "df.drop(df[df['dropoff_latitude'] == 0].index, axis=0, inplace = True)\n",
    "df.drop(df[df['passenger_count'] == 208].index, axis=0, inplace = True)\n",
    "df.drop(df[df['passenger_count'] > 5].index, axis=0, inplace = True)\n",
    "df.drop(df[df['passenger_count'] == 0].index, axis=0, inplace = True)"
   ]
  },
  {
   "cell_type": "code",
   "execution_count": 6,
   "metadata": {
    "papermill": {
     "duration": 688.44216,
     "end_time": "2020-12-05T21:23:59.355251",
     "exception": false,
     "start_time": "2020-12-05T21:12:30.913091",
     "status": "completed"
    },
    "tags": []
   },
   "outputs": [],
   "source": [
    "df['key'] = pd.to_datetime(df['key'])\n",
    "key = test_df.key\n",
    "test_df['key'] = pd.to_datetime(test_df['key'])\n",
    "df['pickup_datetime']  = pd.to_datetime(df['pickup_datetime'])\n",
    "test_df['pickup_datetime']  = pd.to_datetime(test_df['pickup_datetime'])"
   ]
  },
  {
   "cell_type": "code",
   "execution_count": 7,
   "metadata": {
    "papermill": {
     "duration": 2.750646,
     "end_time": "2020-12-05T21:24:02.139722",
     "exception": false,
     "start_time": "2020-12-05T21:23:59.389076",
     "status": "completed"
    },
    "tags": []
   },
   "outputs": [],
   "source": [
    "df['Year'] = df['pickup_datetime'].dt.year\n",
    "df['Month'] = df['pickup_datetime'].dt.month\n",
    "df['Date'] = df['pickup_datetime'].dt.day\n",
    "df['Day of Week'] = df['pickup_datetime'].dt.dayofweek\n",
    "df['Hour'] = df['pickup_datetime'].dt.hour\n",
    "df.drop('pickup_datetime', axis = 1, inplace = True)\n",
    "df.drop('key', axis = 1, inplace = True)\n",
    "\n",
    "test_df['Year'] = test_df['pickup_datetime'].dt.year\n",
    "test_df['Month'] = test_df['pickup_datetime'].dt.month\n",
    "test_df['Date'] = test_df['pickup_datetime'].dt.day\n",
    "test_df['Day of Week'] = test_df['pickup_datetime'].dt.dayofweek\n",
    "test_df['Hour'] = test_df['pickup_datetime'].dt.hour\n",
    "test_df.drop('pickup_datetime', axis = 1, inplace = True)\n",
    "test_df.drop('key', axis = 1, inplace = True)"
   ]
  },
  {
   "cell_type": "code",
   "execution_count": 8,
   "metadata": {
    "papermill": {
     "duration": 1.422088,
     "end_time": "2020-12-05T21:24:03.594292",
     "exception": false,
     "start_time": "2020-12-05T21:24:02.172204",
     "status": "completed"
    },
    "tags": []
   },
   "outputs": [],
   "source": [
    "df.dropna(inplace=True)\n",
    "\n",
    "df.drop(df.index[(df.pickup_longitude < -75) | \n",
    "           (df.pickup_longitude > -72) | \n",
    "           (df.pickup_latitude < 40) | \n",
    "           (df.pickup_latitude > 42)],inplace=True)\n",
    "df.drop(df.index[(df.dropoff_longitude < -75) | \n",
    "           (df.dropoff_longitude > -72) | \n",
    "           (df.dropoff_latitude < 40) | \n",
    "           (df.dropoff_latitude > 42)],inplace=True)"
   ]
  },
  {
   "cell_type": "code",
   "execution_count": 9,
   "metadata": {
    "papermill": {
     "duration": 0.063972,
     "end_time": "2020-12-05T21:24:05.588484",
     "exception": false,
     "start_time": "2020-12-05T21:24:05.524512",
     "status": "completed"
    },
    "tags": []
   },
   "outputs": [],
   "source": [
    "def jfk_dist(trip):\n",
    "    jfk_lat = 40.6413\n",
    "    jfk_long = -73.7781\n",
    "    dropoff_lat = trip['dropoff_latitude']\n",
    "    dropoff_long = trip['dropoff_longitude']\n",
    "    jfk_distance = geopy.distance.geodesic((dropoff_lat, dropoff_long), (jfk_lat, jfk_long)).miles\n",
    "    return jfk_distance\n",
    "\n",
    "def lga_dist(trip):\n",
    "    lga_lat = 40.7769\n",
    "    lga_long = -73.8740\n",
    "    dropoff_lat = trip['dropoff_latitude']\n",
    "    dropoff_long = trip['dropoff_longitude']\n",
    "    lga_distance = geopy.distance.geodesic((dropoff_lat, dropoff_long), (lga_lat, lga_long)).miles\n",
    "    return lga_distance\n",
    "\n",
    "def ewr_dist(trip):\n",
    "    ewr_lat = 40.6895\n",
    "    ewr_long = -74.1745\n",
    "    dropoff_lat = trip['dropoff_latitude']\n",
    "    dropoff_long = trip['dropoff_longitude']\n",
    "    ewr_distance = geopy.distance.geodesic((dropoff_lat, dropoff_long), (ewr_lat, ewr_long)).miles\n",
    "    return ewr_distance\n",
    "\n",
    "def tsq_dist(trip):\n",
    "    tsq_lat = 40.7580\n",
    "    tsq_long = -73.9855\n",
    "    dropoff_lat = trip['dropoff_latitude']\n",
    "    dropoff_long = trip['dropoff_longitude']\n",
    "    tsq_distance = geopy.distance.geodesic((dropoff_lat, dropoff_long), (tsq_lat, tsq_long)).miles\n",
    "    return tsq_distance\n",
    "\n",
    "def cpk_dist(trip):\n",
    "    cpk_lat = 40.7812\n",
    "    cpk_long = -73.9665\n",
    "    dropoff_lat = trip['dropoff_latitude']\n",
    "    dropoff_long = trip['dropoff_longitude']\n",
    "    cpk_distance = geopy.distance.geodesic((dropoff_lat, dropoff_long), (cpk_lat, cpk_long)).miles\n",
    "    return cpk_distance\n",
    "\n",
    "def lib_dist(trip):\n",
    "    lib_lat = 40.6892\n",
    "    lib_long = -74.0445\n",
    "    dropoff_lat = trip['dropoff_latitude']\n",
    "    dropoff_long = trip['dropoff_longitude']\n",
    "    lib_distance = geopy.distance.geodesic((dropoff_lat, dropoff_long), (lib_lat, lib_long)).miles\n",
    "    return lib_distance\n",
    "\n",
    "def gct_dist(trip):\n",
    "    gct_lat = 40.7527\n",
    "    gct_long = -73.9772\n",
    "    dropoff_lat = trip['dropoff_latitude']\n",
    "    dropoff_long = trip['dropoff_longitude']\n",
    "    gct_distance = geopy.distance.geodesic((dropoff_lat, dropoff_long), (gct_lat, gct_long)).miles\n",
    "    return gct_distance\n",
    "\n",
    "def met_dist(trip):\n",
    "    met_lat = 40.7794\n",
    "    met_long = -73.9632\n",
    "    dropoff_lat = trip['dropoff_latitude']\n",
    "    dropoff_long = trip['dropoff_longitude']\n",
    "    met_distance = geopy.distance.geodesic((dropoff_lat, dropoff_long), (met_lat, met_long)).miles\n",
    "    return met_distance\n",
    "\n",
    "def wtc_dist(trip):\n",
    "    wtc_lat = 40.7126\n",
    "    wtc_long = -74.0099\n",
    "    dropoff_lat = trip['dropoff_latitude']\n",
    "    dropoff_long = trip['dropoff_longitude']\n",
    "    wtc_distance = geopy.distance.geodesic((dropoff_lat, dropoff_long), (wtc_lat, wtc_long)).miles\n",
    "    return wtc_distance"
   ]
  },
  {
   "cell_type": "code",
   "execution_count": 10,
   "metadata": {
    "papermill": {
     "duration": 0.046252,
     "end_time": "2020-12-05T21:24:05.668770",
     "exception": false,
     "start_time": "2020-12-05T21:24:05.622518",
     "status": "completed"
    },
    "tags": []
   },
   "outputs": [],
   "source": [
    "def optimize_floats(df):\n",
    "    floats = df.select_dtypes(include=['float64']).columns.tolist()\n",
    "    df[floats] = df[floats].apply(pd.to_numeric, downcast='float')\n",
    "    return df\n",
    "\n",
    "\n",
    "def optimize_ints(df):\n",
    "    ints = df.select_dtypes(include=['int64']).columns.tolist()\n",
    "    df[ints] = df[ints].apply(pd.to_numeric, downcast='integer')\n",
    "    return df\n",
    "\n",
    "def optimize(df):\n",
    "    return optimize_floats(optimize_ints(df))"
   ]
  },
  {
   "cell_type": "code",
   "execution_count": 11,
   "metadata": {
    "papermill": {
     "duration": 0.986928,
     "end_time": "2020-12-05T21:24:06.689588",
     "exception": false,
     "start_time": "2020-12-05T21:24:05.702660",
     "status": "completed"
    },
    "tags": []
   },
   "outputs": [
    {
     "name": "stderr",
     "output_type": "stream",
     "text": [
      "UserWarning: User-defined function verification is still under development in Modin. The function provided is not verified.\n",
      "UserWarning: `DataFrame.setitem_unhashable_key` defaulting to pandas implementation.\n",
      "To request implementation, send an email to feature_requests@modin.org.\n",
      "UserWarning: Distributing <class 'pandas.core.frame.DataFrame'> object. This may take some time.\n",
      "UserWarning: `DataFrame.setitem_unhashable_key` defaulting to pandas implementation.\n"
     ]
    }
   ],
   "source": [
    "df = optimize(df)\n",
    "test_df = optimize(test_df)"
   ]
  },
  {
   "cell_type": "code",
   "execution_count": 12,
   "metadata": {
    "papermill": {
     "duration": 0.051555,
     "end_time": "2020-12-05T21:24:06.775311",
     "exception": false,
     "start_time": "2020-12-05T21:24:06.723756",
     "status": "completed"
    },
    "tags": []
   },
   "outputs": [],
   "source": [
    "def calc_dists(df):\n",
    "    df['jfk'] = df.apply(lambda x: jfk_dist(x), axis = 1 )\n",
    "    df['lga'] = df.apply(lambda x: lga_dist(x), axis = 1 )\n",
    "    df['ewr'] = df.apply(lambda x: ewr_dist(x), axis = 1 )\n",
    "    df['tsq'] = df.apply(lambda x: tsq_dist(x), axis = 1 )\n",
    "    df['met'] = df.apply(lambda x: met_dist(x), axis = 1 )\n",
    "    df['wtc'] = df.apply(lambda x: wtc_dist(x), axis = 1 )\n",
    "    return df"
   ]
  },
  {
   "cell_type": "code",
   "execution_count": 13,
   "metadata": {
    "papermill": {
     "duration": 14573.608646,
     "end_time": "2020-12-06T01:27:00.419028",
     "exception": false,
     "start_time": "2020-12-05T21:24:06.810382",
     "status": "completed"
    },
    "tags": []
   },
   "outputs": [
    {
     "name": "stderr",
     "output_type": "stream",
     "text": [
      "2021-11-01 16:10:31,598\tERROR worker.py:79 -- Unhandled error (suppress with RAY_IGNORE_UNHANDLED_ERRORS=1): \u001b[36mray::apply_func()\u001b[39m (pid=340899, ip=10.1.0.7)\n",
      "  At least one of the input arguments for this task could not be computed:\n",
      "ray.exceptions.RayTaskError: \u001b[36mray::deploy_ray_func()\u001b[39m (pid=340899, ip=10.1.0.7)\n",
      "  File \"/home/nvidiatest/miniconda3/envs/mlops/lib/python3.8/site-packages/modin/engines/ray/pandas_on_ray/frame/axis_partition.py\", line 207, in deploy_ray_func\n",
      "    result = func(*args)\n",
      "  File \"/home/nvidiatest/miniconda3/envs/mlops/lib/python3.8/site-packages/modin/engines/base/frame/axis_partition.py\", line 303, in deploy_axis_func\n",
      "    result = func(dataframe, **kwargs)\n",
      "  File \"/home/nvidiatest/miniconda3/envs/mlops/lib/python3.8/site-packages/modin/engines/base/frame/data.py\", line 1153, in _map_reduce_func\n",
      "    series_result = func(df, *args, **kwargs)\n",
      "  File \"/home/nvidiatest/miniconda3/envs/mlops/lib/python3.8/site-packages/modin/backends/pandas/query_compiler.py\", line 2478, in <lambda>\n",
      "    axis, lambda df: df.apply(func, axis=axis, *args, **kwargs)\n",
      "  File \"/home/nvidiatest/miniconda3/envs/mlops/lib/python3.8/site-packages/pandas/core/frame.py\", line 8740, in apply\n",
      "    return op.apply()\n",
      "  File \"/home/nvidiatest/miniconda3/envs/mlops/lib/python3.8/site-packages/pandas/core/apply.py\", line 688, in apply\n",
      "    return self.apply_standard()\n",
      "  File \"/home/nvidiatest/miniconda3/envs/mlops/lib/python3.8/site-packages/pandas/core/apply.py\", line 812, in apply_standard\n",
      "    results, res_index = self.apply_series_generator()\n",
      "  File \"/home/nvidiatest/miniconda3/envs/mlops/lib/python3.8/site-packages/pandas/core/apply.py\", line 828, in apply_series_generator\n",
      "    results[i] = self.f(v)\n",
      "  File \"/home/nvidiatest/miniconda3/envs/mlops/lib/python3.8/site-packages/modin/utils.py\", line 500, in wrapper\n",
      "    result = func(*args, **kwargs)\n",
      "  File \"/tmp/ipykernel_340742/3149247693.py\", line 2, in <lambda>\n",
      "  File \"/tmp/ipykernel_340742/2034051946.py\", line 6, in jfk_dist\n",
      "  File \"/home/nvidiatest/miniconda3/envs/mlops/lib/python3.8/site-packages/geopy/distance.py\", line 522, in __init__\n",
      "    super().__init__(*args, **kwargs)\n",
      "  File \"/home/nvidiatest/miniconda3/envs/mlops/lib/python3.8/site-packages/geopy/distance.py\", line 276, in __init__\n",
      "    kilometers += self.measure(a, b)\n",
      "  File \"/home/nvidiatest/miniconda3/envs/mlops/lib/python3.8/site-packages/geopy/distance.py\", line 538, in measure\n",
      "    a, b = Point(a), Point(b)\n",
      "  File \"/home/nvidiatest/miniconda3/envs/mlops/lib/python3.8/site-packages/geopy/point.py\", line 175, in __new__\n",
      "    return cls.from_sequence(seq)\n",
      "  File \"/home/nvidiatest/miniconda3/envs/mlops/lib/python3.8/site-packages/geopy/point.py\", line 472, in from_sequence\n",
      "    return cls(*args)\n",
      "  File \"/home/nvidiatest/miniconda3/envs/mlops/lib/python3.8/site-packages/geopy/point.py\", line 188, in __new__\n",
      "    _normalize_coordinates(latitude, longitude, altitude)\n",
      "  File \"/home/nvidiatest/miniconda3/envs/mlops/lib/python3.8/site-packages/geopy/point.py\", line 74, in _normalize_coordinates\n",
      "    raise ValueError('Latitude must be in the [-90; 90] range.')\n",
      "ValueError: Latitude must be in the [-90; 90] range.\n",
      "2021-11-01 16:10:31,603\tERROR worker.py:79 -- Unhandled error (suppress with RAY_IGNORE_UNHANDLED_ERRORS=1): \u001b[36mray::apply_func()\u001b[39m (pid=340899, ip=10.1.0.7)\n",
      "  At least one of the input arguments for this task could not be computed:\n",
      "ray.exceptions.RayTaskError: \u001b[36mray::deploy_ray_func()\u001b[39m (pid=340899, ip=10.1.0.7)\n",
      "  File \"/home/nvidiatest/miniconda3/envs/mlops/lib/python3.8/site-packages/modin/engines/ray/pandas_on_ray/frame/axis_partition.py\", line 207, in deploy_ray_func\n",
      "    result = func(*args)\n",
      "  File \"/home/nvidiatest/miniconda3/envs/mlops/lib/python3.8/site-packages/modin/engines/base/frame/axis_partition.py\", line 303, in deploy_axis_func\n",
      "    result = func(dataframe, **kwargs)\n",
      "  File \"/home/nvidiatest/miniconda3/envs/mlops/lib/python3.8/site-packages/modin/engines/base/frame/data.py\", line 1153, in _map_reduce_func\n",
      "    series_result = func(df, *args, **kwargs)\n",
      "  File \"/home/nvidiatest/miniconda3/envs/mlops/lib/python3.8/site-packages/modin/backends/pandas/query_compiler.py\", line 2478, in <lambda>\n",
      "    axis, lambda df: df.apply(func, axis=axis, *args, **kwargs)\n",
      "  File \"/home/nvidiatest/miniconda3/envs/mlops/lib/python3.8/site-packages/pandas/core/frame.py\", line 8740, in apply\n",
      "    return op.apply()\n",
      "  File \"/home/nvidiatest/miniconda3/envs/mlops/lib/python3.8/site-packages/pandas/core/apply.py\", line 688, in apply\n",
      "    return self.apply_standard()\n",
      "  File \"/home/nvidiatest/miniconda3/envs/mlops/lib/python3.8/site-packages/pandas/core/apply.py\", line 812, in apply_standard\n",
      "    results, res_index = self.apply_series_generator()\n",
      "  File \"/home/nvidiatest/miniconda3/envs/mlops/lib/python3.8/site-packages/pandas/core/apply.py\", line 828, in apply_series_generator\n",
      "    results[i] = self.f(v)\n",
      "  File \"/home/nvidiatest/miniconda3/envs/mlops/lib/python3.8/site-packages/modin/utils.py\", line 500, in wrapper\n",
      "    result = func(*args, **kwargs)\n",
      "  File \"/tmp/ipykernel_340742/3149247693.py\", line 2, in <lambda>\n",
      "  File \"/tmp/ipykernel_340742/2034051946.py\", line 6, in jfk_dist\n",
      "  File \"/home/nvidiatest/miniconda3/envs/mlops/lib/python3.8/site-packages/geopy/distance.py\", line 522, in __init__\n",
      "    super().__init__(*args, **kwargs)\n",
      "  File \"/home/nvidiatest/miniconda3/envs/mlops/lib/python3.8/site-packages/geopy/distance.py\", line 276, in __init__\n",
      "    kilometers += self.measure(a, b)\n",
      "  File \"/home/nvidiatest/miniconda3/envs/mlops/lib/python3.8/site-packages/geopy/distance.py\", line 538, in measure\n",
      "    a, b = Point(a), Point(b)\n",
      "  File \"/home/nvidiatest/miniconda3/envs/mlops/lib/python3.8/site-packages/geopy/point.py\", line 175, in __new__\n",
      "    return cls.from_sequence(seq)\n",
      "  File \"/home/nvidiatest/miniconda3/envs/mlops/lib/python3.8/site-packages/geopy/point.py\", line 472, in from_sequence\n",
      "    return cls(*args)\n",
      "  File \"/home/nvidiatest/miniconda3/envs/mlops/lib/python3.8/site-packages/geopy/point.py\", line 188, in __new__\n",
      "    _normalize_coordinates(latitude, longitude, altitude)\n",
      "  File \"/home/nvidiatest/miniconda3/envs/mlops/lib/python3.8/site-packages/geopy/point.py\", line 74, in _normalize_coordinates\n",
      "    raise ValueError('Latitude must be in the [-90; 90] range.')\n",
      "ValueError: Latitude must be in the [-90; 90] range.\n",
      "2021-11-01 16:10:31,605\tERROR worker.py:79 -- Unhandled error (suppress with RAY_IGNORE_UNHANDLED_ERRORS=1): \u001b[36mray::apply_func()\u001b[39m (pid=340899, ip=10.1.0.7)\n",
      "  At least one of the input arguments for this task could not be computed:\n",
      "ray.exceptions.RayTaskError: \u001b[36mray::deploy_ray_func()\u001b[39m (pid=340899, ip=10.1.0.7)\n",
      "  File \"/home/nvidiatest/miniconda3/envs/mlops/lib/python3.8/site-packages/modin/engines/ray/pandas_on_ray/frame/axis_partition.py\", line 207, in deploy_ray_func\n",
      "    result = func(*args)\n",
      "  File \"/home/nvidiatest/miniconda3/envs/mlops/lib/python3.8/site-packages/modin/engines/base/frame/axis_partition.py\", line 303, in deploy_axis_func\n",
      "    result = func(dataframe, **kwargs)\n",
      "  File \"/home/nvidiatest/miniconda3/envs/mlops/lib/python3.8/site-packages/modin/engines/base/frame/data.py\", line 1153, in _map_reduce_func\n",
      "    series_result = func(df, *args, **kwargs)\n",
      "  File \"/home/nvidiatest/miniconda3/envs/mlops/lib/python3.8/site-packages/modin/backends/pandas/query_compiler.py\", line 2478, in <lambda>\n",
      "    axis, lambda df: df.apply(func, axis=axis, *args, **kwargs)\n",
      "  File \"/home/nvidiatest/miniconda3/envs/mlops/lib/python3.8/site-packages/pandas/core/frame.py\", line 8740, in apply\n",
      "    return op.apply()\n",
      "  File \"/home/nvidiatest/miniconda3/envs/mlops/lib/python3.8/site-packages/pandas/core/apply.py\", line 688, in apply\n",
      "    return self.apply_standard()\n",
      "  File \"/home/nvidiatest/miniconda3/envs/mlops/lib/python3.8/site-packages/pandas/core/apply.py\", line 812, in apply_standard\n",
      "    results, res_index = self.apply_series_generator()\n",
      "  File \"/home/nvidiatest/miniconda3/envs/mlops/lib/python3.8/site-packages/pandas/core/apply.py\", line 828, in apply_series_generator\n",
      "    results[i] = self.f(v)\n",
      "  File \"/home/nvidiatest/miniconda3/envs/mlops/lib/python3.8/site-packages/modin/utils.py\", line 500, in wrapper\n",
      "    result = func(*args, **kwargs)\n",
      "  File \"/tmp/ipykernel_340742/3149247693.py\", line 2, in <lambda>\n",
      "  File \"/tmp/ipykernel_340742/2034051946.py\", line 6, in jfk_dist\n",
      "  File \"/home/nvidiatest/miniconda3/envs/mlops/lib/python3.8/site-packages/geopy/distance.py\", line 522, in __init__\n",
      "    super().__init__(*args, **kwargs)\n",
      "  File \"/home/nvidiatest/miniconda3/envs/mlops/lib/python3.8/site-packages/geopy/distance.py\", line 276, in __init__\n",
      "    kilometers += self.measure(a, b)\n",
      "  File \"/home/nvidiatest/miniconda3/envs/mlops/lib/python3.8/site-packages/geopy/distance.py\", line 538, in measure\n",
      "    a, b = Point(a), Point(b)\n",
      "  File \"/home/nvidiatest/miniconda3/envs/mlops/lib/python3.8/site-packages/geopy/point.py\", line 175, in __new__\n",
      "    return cls.from_sequence(seq)\n",
      "  File \"/home/nvidiatest/miniconda3/envs/mlops/lib/python3.8/site-packages/geopy/point.py\", line 472, in from_sequence\n",
      "    return cls(*args)\n",
      "  File \"/home/nvidiatest/miniconda3/envs/mlops/lib/python3.8/site-packages/geopy/point.py\", line 188, in __new__\n",
      "    _normalize_coordinates(latitude, longitude, altitude)\n",
      "  File \"/home/nvidiatest/miniconda3/envs/mlops/lib/python3.8/site-packages/geopy/point.py\", line 74, in _normalize_coordinates\n",
      "    raise ValueError('Latitude must be in the [-90; 90] range.')\n",
      "ValueError: Latitude must be in the [-90; 90] range.\n"
     ]
    },
    {
     "ename": "RayTaskError(ValueError)",
     "evalue": "\u001b[36mray::apply_func()\u001b[39m (pid=340899, ip=10.1.0.7)\n  At least one of the input arguments for this task could not be computed:\nray.exceptions.RayTaskError: \u001b[36mray::deploy_ray_func()\u001b[39m (pid=340899, ip=10.1.0.7)\n  File \"/home/nvidiatest/miniconda3/envs/mlops/lib/python3.8/site-packages/modin/engines/ray/pandas_on_ray/frame/axis_partition.py\", line 207, in deploy_ray_func\n    result = func(*args)\n  File \"/home/nvidiatest/miniconda3/envs/mlops/lib/python3.8/site-packages/modin/engines/base/frame/axis_partition.py\", line 303, in deploy_axis_func\n    result = func(dataframe, **kwargs)\n  File \"/home/nvidiatest/miniconda3/envs/mlops/lib/python3.8/site-packages/modin/engines/base/frame/data.py\", line 1153, in _map_reduce_func\n    series_result = func(df, *args, **kwargs)\n  File \"/home/nvidiatest/miniconda3/envs/mlops/lib/python3.8/site-packages/modin/backends/pandas/query_compiler.py\", line 2478, in <lambda>\n    axis, lambda df: df.apply(func, axis=axis, *args, **kwargs)\n  File \"/home/nvidiatest/miniconda3/envs/mlops/lib/python3.8/site-packages/pandas/core/frame.py\", line 8740, in apply\n    return op.apply()\n  File \"/home/nvidiatest/miniconda3/envs/mlops/lib/python3.8/site-packages/pandas/core/apply.py\", line 688, in apply\n    return self.apply_standard()\n  File \"/home/nvidiatest/miniconda3/envs/mlops/lib/python3.8/site-packages/pandas/core/apply.py\", line 812, in apply_standard\n    results, res_index = self.apply_series_generator()\n  File \"/home/nvidiatest/miniconda3/envs/mlops/lib/python3.8/site-packages/pandas/core/apply.py\", line 828, in apply_series_generator\n    results[i] = self.f(v)\n  File \"/home/nvidiatest/miniconda3/envs/mlops/lib/python3.8/site-packages/modin/utils.py\", line 500, in wrapper\n    result = func(*args, **kwargs)\n  File \"/tmp/ipykernel_340742/3149247693.py\", line 2, in <lambda>\n  File \"/tmp/ipykernel_340742/2034051946.py\", line 6, in jfk_dist\n  File \"/home/nvidiatest/miniconda3/envs/mlops/lib/python3.8/site-packages/geopy/distance.py\", line 522, in __init__\n    super().__init__(*args, **kwargs)\n  File \"/home/nvidiatest/miniconda3/envs/mlops/lib/python3.8/site-packages/geopy/distance.py\", line 276, in __init__\n    kilometers += self.measure(a, b)\n  File \"/home/nvidiatest/miniconda3/envs/mlops/lib/python3.8/site-packages/geopy/distance.py\", line 538, in measure\n    a, b = Point(a), Point(b)\n  File \"/home/nvidiatest/miniconda3/envs/mlops/lib/python3.8/site-packages/geopy/point.py\", line 175, in __new__\n    return cls.from_sequence(seq)\n  File \"/home/nvidiatest/miniconda3/envs/mlops/lib/python3.8/site-packages/geopy/point.py\", line 472, in from_sequence\n    return cls(*args)\n  File \"/home/nvidiatest/miniconda3/envs/mlops/lib/python3.8/site-packages/geopy/point.py\", line 188, in __new__\n    _normalize_coordinates(latitude, longitude, altitude)\n  File \"/home/nvidiatest/miniconda3/envs/mlops/lib/python3.8/site-packages/geopy/point.py\", line 74, in _normalize_coordinates\n    raise ValueError('Latitude must be in the [-90; 90] range.')\nValueError: Latitude must be in the [-90; 90] range.",
     "output_type": "error",
     "traceback": [
      "\u001b[0;31m---------------------------------------------------------------------------\u001b[0m",
      "\u001b[0;31mRayTaskError(ValueError)\u001b[0m                  Traceback (most recent call last)",
      "\u001b[0;32m/tmp/ipykernel_340742/4151037708.py\u001b[0m in \u001b[0;36m<module>\u001b[0;34m\u001b[0m\n\u001b[1;32m      1\u001b[0m \u001b[0mdf\u001b[0m \u001b[0;34m=\u001b[0m \u001b[0mcalc_dists\u001b[0m\u001b[0;34m(\u001b[0m\u001b[0mdf\u001b[0m\u001b[0;34m)\u001b[0m\u001b[0;34m\u001b[0m\u001b[0;34m\u001b[0m\u001b[0m\n\u001b[0;32m----> 2\u001b[0;31m \u001b[0mtest_df\u001b[0m \u001b[0;34m=\u001b[0m \u001b[0mcalc_dists\u001b[0m\u001b[0;34m(\u001b[0m\u001b[0mtest_df\u001b[0m\u001b[0;34m)\u001b[0m\u001b[0;34m\u001b[0m\u001b[0;34m\u001b[0m\u001b[0m\n\u001b[0m",
      "\u001b[0;32m/tmp/ipykernel_340742/3149247693.py\u001b[0m in \u001b[0;36mcalc_dists\u001b[0;34m(df)\u001b[0m\n\u001b[1;32m      1\u001b[0m \u001b[0;32mdef\u001b[0m \u001b[0mcalc_dists\u001b[0m\u001b[0;34m(\u001b[0m\u001b[0mdf\u001b[0m\u001b[0;34m)\u001b[0m\u001b[0;34m:\u001b[0m\u001b[0;34m\u001b[0m\u001b[0;34m\u001b[0m\u001b[0m\n\u001b[0;32m----> 2\u001b[0;31m     \u001b[0mdf\u001b[0m\u001b[0;34m[\u001b[0m\u001b[0;34m'jfk'\u001b[0m\u001b[0;34m]\u001b[0m \u001b[0;34m=\u001b[0m \u001b[0mdf\u001b[0m\u001b[0;34m.\u001b[0m\u001b[0mapply\u001b[0m\u001b[0;34m(\u001b[0m\u001b[0;32mlambda\u001b[0m \u001b[0mx\u001b[0m\u001b[0;34m:\u001b[0m \u001b[0mjfk_dist\u001b[0m\u001b[0;34m(\u001b[0m\u001b[0mx\u001b[0m\u001b[0;34m)\u001b[0m\u001b[0;34m,\u001b[0m \u001b[0maxis\u001b[0m \u001b[0;34m=\u001b[0m \u001b[0;36m1\u001b[0m \u001b[0;34m)\u001b[0m\u001b[0;34m\u001b[0m\u001b[0;34m\u001b[0m\u001b[0m\n\u001b[0m\u001b[1;32m      3\u001b[0m     \u001b[0mdf\u001b[0m\u001b[0;34m[\u001b[0m\u001b[0;34m'lga'\u001b[0m\u001b[0;34m]\u001b[0m \u001b[0;34m=\u001b[0m \u001b[0mdf\u001b[0m\u001b[0;34m.\u001b[0m\u001b[0mapply\u001b[0m\u001b[0;34m(\u001b[0m\u001b[0;32mlambda\u001b[0m \u001b[0mx\u001b[0m\u001b[0;34m:\u001b[0m \u001b[0mlga_dist\u001b[0m\u001b[0;34m(\u001b[0m\u001b[0mx\u001b[0m\u001b[0;34m)\u001b[0m\u001b[0;34m,\u001b[0m \u001b[0maxis\u001b[0m \u001b[0;34m=\u001b[0m \u001b[0;36m1\u001b[0m \u001b[0;34m)\u001b[0m\u001b[0;34m\u001b[0m\u001b[0;34m\u001b[0m\u001b[0m\n\u001b[1;32m      4\u001b[0m     \u001b[0mdf\u001b[0m\u001b[0;34m[\u001b[0m\u001b[0;34m'ewr'\u001b[0m\u001b[0;34m]\u001b[0m \u001b[0;34m=\u001b[0m \u001b[0mdf\u001b[0m\u001b[0;34m.\u001b[0m\u001b[0mapply\u001b[0m\u001b[0;34m(\u001b[0m\u001b[0;32mlambda\u001b[0m \u001b[0mx\u001b[0m\u001b[0;34m:\u001b[0m \u001b[0mewr_dist\u001b[0m\u001b[0;34m(\u001b[0m\u001b[0mx\u001b[0m\u001b[0;34m)\u001b[0m\u001b[0;34m,\u001b[0m \u001b[0maxis\u001b[0m \u001b[0;34m=\u001b[0m \u001b[0;36m1\u001b[0m \u001b[0;34m)\u001b[0m\u001b[0;34m\u001b[0m\u001b[0;34m\u001b[0m\u001b[0m\n\u001b[1;32m      5\u001b[0m     \u001b[0mdf\u001b[0m\u001b[0;34m[\u001b[0m\u001b[0;34m'tsq'\u001b[0m\u001b[0;34m]\u001b[0m \u001b[0;34m=\u001b[0m \u001b[0mdf\u001b[0m\u001b[0;34m.\u001b[0m\u001b[0mapply\u001b[0m\u001b[0;34m(\u001b[0m\u001b[0;32mlambda\u001b[0m \u001b[0mx\u001b[0m\u001b[0;34m:\u001b[0m \u001b[0mtsq_dist\u001b[0m\u001b[0;34m(\u001b[0m\u001b[0mx\u001b[0m\u001b[0;34m)\u001b[0m\u001b[0;34m,\u001b[0m \u001b[0maxis\u001b[0m \u001b[0;34m=\u001b[0m \u001b[0;36m1\u001b[0m \u001b[0;34m)\u001b[0m\u001b[0;34m\u001b[0m\u001b[0;34m\u001b[0m\u001b[0m\n",
      "\u001b[0;32m~/miniconda3/envs/mlops/lib/python3.8/site-packages/modin/pandas/dataframe.py\u001b[0m in \u001b[0;36mapply\u001b[0;34m(self, func, axis, raw, result_type, args, **kwargs)\u001b[0m\n\u001b[1;32m    360\u001b[0m         \"\"\"\n\u001b[1;32m    361\u001b[0m         \u001b[0maxis\u001b[0m \u001b[0;34m=\u001b[0m \u001b[0mself\u001b[0m\u001b[0;34m.\u001b[0m\u001b[0m_get_axis_number\u001b[0m\u001b[0;34m(\u001b[0m\u001b[0maxis\u001b[0m\u001b[0;34m)\u001b[0m\u001b[0;34m\u001b[0m\u001b[0;34m\u001b[0m\u001b[0m\n\u001b[0;32m--> 362\u001b[0;31m         query_compiler = super(DataFrame, self).apply(\n\u001b[0m\u001b[1;32m    363\u001b[0m             \u001b[0mfunc\u001b[0m\u001b[0;34m,\u001b[0m \u001b[0maxis\u001b[0m\u001b[0;34m=\u001b[0m\u001b[0maxis\u001b[0m\u001b[0;34m,\u001b[0m \u001b[0mraw\u001b[0m\u001b[0;34m=\u001b[0m\u001b[0mraw\u001b[0m\u001b[0;34m,\u001b[0m \u001b[0mresult_type\u001b[0m\u001b[0;34m=\u001b[0m\u001b[0mresult_type\u001b[0m\u001b[0;34m,\u001b[0m \u001b[0margs\u001b[0m\u001b[0;34m=\u001b[0m\u001b[0margs\u001b[0m\u001b[0;34m,\u001b[0m \u001b[0;34m**\u001b[0m\u001b[0mkwargs\u001b[0m\u001b[0;34m\u001b[0m\u001b[0;34m\u001b[0m\u001b[0m\n\u001b[1;32m    364\u001b[0m         )\n",
      "\u001b[0;32m~/miniconda3/envs/mlops/lib/python3.8/site-packages/modin/pandas/base.py\u001b[0m in \u001b[0;36mapply\u001b[0;34m(self, func, axis, broadcast, raw, reduce, result_type, convert_dtype, args, **kwds)\u001b[0m\n\u001b[1;32m    855\u001b[0m                     \u001b[0mstacklevel\u001b[0m\u001b[0;34m=\u001b[0m\u001b[0;36m2\u001b[0m\u001b[0;34m,\u001b[0m\u001b[0;34m\u001b[0m\u001b[0;34m\u001b[0m\u001b[0m\n\u001b[1;32m    856\u001b[0m                 )\n\u001b[0;32m--> 857\u001b[0;31m         query_compiler = self._query_compiler.apply(\n\u001b[0m\u001b[1;32m    858\u001b[0m             \u001b[0mfunc\u001b[0m\u001b[0;34m,\u001b[0m\u001b[0;34m\u001b[0m\u001b[0;34m\u001b[0m\u001b[0m\n\u001b[1;32m    859\u001b[0m             \u001b[0maxis\u001b[0m\u001b[0;34m,\u001b[0m\u001b[0;34m\u001b[0m\u001b[0;34m\u001b[0m\u001b[0m\n",
      "\u001b[0;32m~/miniconda3/envs/mlops/lib/python3.8/site-packages/modin/backends/pandas/query_compiler.py\u001b[0m in \u001b[0;36mapply\u001b[0;34m(self, func, axis, *args, **kwargs)\u001b[0m\n\u001b[1;32m   2336\u001b[0m             \u001b[0;32mreturn\u001b[0m \u001b[0mself\u001b[0m\u001b[0;34m.\u001b[0m\u001b[0m_apply_text_func_elementwise\u001b[0m\u001b[0;34m(\u001b[0m\u001b[0mfunc\u001b[0m\u001b[0;34m,\u001b[0m \u001b[0maxis\u001b[0m\u001b[0;34m,\u001b[0m \u001b[0;34m*\u001b[0m\u001b[0margs\u001b[0m\u001b[0;34m,\u001b[0m \u001b[0;34m**\u001b[0m\u001b[0mkwargs\u001b[0m\u001b[0;34m)\u001b[0m\u001b[0;34m\u001b[0m\u001b[0;34m\u001b[0m\u001b[0m\n\u001b[1;32m   2337\u001b[0m         \u001b[0;32melif\u001b[0m \u001b[0mcallable\u001b[0m\u001b[0;34m(\u001b[0m\u001b[0mfunc\u001b[0m\u001b[0;34m)\u001b[0m\u001b[0;34m:\u001b[0m\u001b[0;34m\u001b[0m\u001b[0;34m\u001b[0m\u001b[0m\n\u001b[0;32m-> 2338\u001b[0;31m             \u001b[0;32mreturn\u001b[0m \u001b[0mself\u001b[0m\u001b[0;34m.\u001b[0m\u001b[0m_callable_func\u001b[0m\u001b[0;34m(\u001b[0m\u001b[0mfunc\u001b[0m\u001b[0;34m,\u001b[0m \u001b[0maxis\u001b[0m\u001b[0;34m,\u001b[0m \u001b[0;34m*\u001b[0m\u001b[0margs\u001b[0m\u001b[0;34m,\u001b[0m \u001b[0;34m**\u001b[0m\u001b[0mkwargs\u001b[0m\u001b[0;34m)\u001b[0m\u001b[0;34m\u001b[0m\u001b[0;34m\u001b[0m\u001b[0m\n\u001b[0m\u001b[1;32m   2339\u001b[0m         \u001b[0;32melif\u001b[0m \u001b[0misinstance\u001b[0m\u001b[0;34m(\u001b[0m\u001b[0mfunc\u001b[0m\u001b[0;34m,\u001b[0m \u001b[0mdict\u001b[0m\u001b[0;34m)\u001b[0m\u001b[0;34m:\u001b[0m\u001b[0;34m\u001b[0m\u001b[0;34m\u001b[0m\u001b[0m\n\u001b[1;32m   2340\u001b[0m             \u001b[0;32mreturn\u001b[0m \u001b[0mself\u001b[0m\u001b[0;34m.\u001b[0m\u001b[0m_dict_func\u001b[0m\u001b[0;34m(\u001b[0m\u001b[0mfunc\u001b[0m\u001b[0;34m,\u001b[0m \u001b[0maxis\u001b[0m\u001b[0;34m,\u001b[0m \u001b[0;34m*\u001b[0m\u001b[0margs\u001b[0m\u001b[0;34m,\u001b[0m \u001b[0;34m**\u001b[0m\u001b[0mkwargs\u001b[0m\u001b[0;34m)\u001b[0m\u001b[0;34m\u001b[0m\u001b[0;34m\u001b[0m\u001b[0m\n",
      "\u001b[0;32m~/miniconda3/envs/mlops/lib/python3.8/site-packages/modin/backends/pandas/query_compiler.py\u001b[0m in \u001b[0;36m_callable_func\u001b[0;34m(self, func, axis, *args, **kwargs)\u001b[0m\n\u001b[1;32m   2475\u001b[0m         \"\"\"\n\u001b[1;32m   2476\u001b[0m         \u001b[0mfunc\u001b[0m \u001b[0;34m=\u001b[0m \u001b[0mwrap_udf_function\u001b[0m\u001b[0;34m(\u001b[0m\u001b[0mfunc\u001b[0m\u001b[0;34m)\u001b[0m\u001b[0;34m\u001b[0m\u001b[0;34m\u001b[0m\u001b[0m\n\u001b[0;32m-> 2477\u001b[0;31m         new_modin_frame = self._modin_frame.apply_full_axis(\n\u001b[0m\u001b[1;32m   2478\u001b[0m             \u001b[0maxis\u001b[0m\u001b[0;34m,\u001b[0m \u001b[0;32mlambda\u001b[0m \u001b[0mdf\u001b[0m\u001b[0;34m:\u001b[0m \u001b[0mdf\u001b[0m\u001b[0;34m.\u001b[0m\u001b[0mapply\u001b[0m\u001b[0;34m(\u001b[0m\u001b[0mfunc\u001b[0m\u001b[0;34m,\u001b[0m \u001b[0maxis\u001b[0m\u001b[0;34m=\u001b[0m\u001b[0maxis\u001b[0m\u001b[0;34m,\u001b[0m \u001b[0;34m*\u001b[0m\u001b[0margs\u001b[0m\u001b[0;34m,\u001b[0m \u001b[0;34m**\u001b[0m\u001b[0mkwargs\u001b[0m\u001b[0;34m)\u001b[0m\u001b[0;34m\u001b[0m\u001b[0;34m\u001b[0m\u001b[0m\n\u001b[1;32m   2479\u001b[0m         )\n",
      "\u001b[0;32m~/miniconda3/envs/mlops/lib/python3.8/site-packages/modin/engines/base/frame/data.py\u001b[0m in \u001b[0;36mapply_full_axis\u001b[0;34m(self, axis, func, new_index, new_columns, dtypes)\u001b[0m\n\u001b[1;32m   1394\u001b[0m         \u001b[0mThe\u001b[0m \u001b[0mdata\u001b[0m \u001b[0mshape\u001b[0m \u001b[0mmay\u001b[0m \u001b[0mchange\u001b[0m \u001b[0;32mas\u001b[0m \u001b[0ma\u001b[0m \u001b[0mresult\u001b[0m \u001b[0mof\u001b[0m \u001b[0mthe\u001b[0m \u001b[0mfunction\u001b[0m\u001b[0;34m.\u001b[0m\u001b[0;34m\u001b[0m\u001b[0;34m\u001b[0m\u001b[0m\n\u001b[1;32m   1395\u001b[0m         \"\"\"\n\u001b[0;32m-> 1396\u001b[0;31m         return self.broadcast_apply_full_axis(\n\u001b[0m\u001b[1;32m   1397\u001b[0m             \u001b[0maxis\u001b[0m\u001b[0;34m=\u001b[0m\u001b[0maxis\u001b[0m\u001b[0;34m,\u001b[0m\u001b[0;34m\u001b[0m\u001b[0;34m\u001b[0m\u001b[0m\n\u001b[1;32m   1398\u001b[0m             \u001b[0mfunc\u001b[0m\u001b[0;34m=\u001b[0m\u001b[0mfunc\u001b[0m\u001b[0;34m,\u001b[0m\u001b[0;34m\u001b[0m\u001b[0;34m\u001b[0m\u001b[0m\n",
      "\u001b[0;32m~/miniconda3/envs/mlops/lib/python3.8/site-packages/modin/engines/base/frame/data.py\u001b[0m in \u001b[0;36mbroadcast_apply_full_axis\u001b[0;34m(self, axis, func, other, new_index, new_columns, apply_indices, enumerate_partitions, dtypes)\u001b[0m\n\u001b[1;32m   1812\u001b[0m         )\n\u001b[1;32m   1813\u001b[0m         \u001b[0;31m# Index objects for new object creation. This is shorter than if..else\u001b[0m\u001b[0;34m\u001b[0m\u001b[0;34m\u001b[0m\u001b[0;34m\u001b[0m\u001b[0m\n\u001b[0;32m-> 1814\u001b[0;31m         new_axes = [\n\u001b[0m\u001b[1;32m   1815\u001b[0m             \u001b[0mself\u001b[0m\u001b[0;34m.\u001b[0m\u001b[0m_compute_axis_labels\u001b[0m\u001b[0;34m(\u001b[0m\u001b[0mi\u001b[0m\u001b[0;34m,\u001b[0m \u001b[0mnew_partitions\u001b[0m\u001b[0;34m)\u001b[0m\u001b[0;34m\u001b[0m\u001b[0;34m\u001b[0m\u001b[0m\n\u001b[1;32m   1816\u001b[0m             \u001b[0;32mif\u001b[0m \u001b[0mnew_axis\u001b[0m \u001b[0;32mis\u001b[0m \u001b[0;32mNone\u001b[0m\u001b[0;34m\u001b[0m\u001b[0;34m\u001b[0m\u001b[0m\n",
      "\u001b[0;32m~/miniconda3/envs/mlops/lib/python3.8/site-packages/modin/engines/base/frame/data.py\u001b[0m in \u001b[0;36m<listcomp>\u001b[0;34m(.0)\u001b[0m\n\u001b[1;32m   1813\u001b[0m         \u001b[0;31m# Index objects for new object creation. This is shorter than if..else\u001b[0m\u001b[0;34m\u001b[0m\u001b[0;34m\u001b[0m\u001b[0;34m\u001b[0m\u001b[0m\n\u001b[1;32m   1814\u001b[0m         new_axes = [\n\u001b[0;32m-> 1815\u001b[0;31m             \u001b[0mself\u001b[0m\u001b[0;34m.\u001b[0m\u001b[0m_compute_axis_labels\u001b[0m\u001b[0;34m(\u001b[0m\u001b[0mi\u001b[0m\u001b[0;34m,\u001b[0m \u001b[0mnew_partitions\u001b[0m\u001b[0;34m)\u001b[0m\u001b[0;34m\u001b[0m\u001b[0;34m\u001b[0m\u001b[0m\n\u001b[0m\u001b[1;32m   1816\u001b[0m             \u001b[0;32mif\u001b[0m \u001b[0mnew_axis\u001b[0m \u001b[0;32mis\u001b[0m \u001b[0;32mNone\u001b[0m\u001b[0;34m\u001b[0m\u001b[0;34m\u001b[0m\u001b[0m\n\u001b[1;32m   1817\u001b[0m             \u001b[0;32melse\u001b[0m \u001b[0mnew_axis\u001b[0m\u001b[0;34m\u001b[0m\u001b[0;34m\u001b[0m\u001b[0m\n",
      "\u001b[0;32m~/miniconda3/envs/mlops/lib/python3.8/site-packages/modin/engines/base/frame/data.py\u001b[0m in \u001b[0;36m_compute_axis_labels\u001b[0;34m(self, axis, partitions)\u001b[0m\n\u001b[1;32m    304\u001b[0m         \u001b[0;32mif\u001b[0m \u001b[0mpartitions\u001b[0m \u001b[0;32mis\u001b[0m \u001b[0;32mNone\u001b[0m\u001b[0;34m:\u001b[0m\u001b[0;34m\u001b[0m\u001b[0;34m\u001b[0m\u001b[0m\n\u001b[1;32m    305\u001b[0m             \u001b[0mpartitions\u001b[0m \u001b[0;34m=\u001b[0m \u001b[0mself\u001b[0m\u001b[0;34m.\u001b[0m\u001b[0m_partitions\u001b[0m\u001b[0;34m\u001b[0m\u001b[0;34m\u001b[0m\u001b[0m\n\u001b[0;32m--> 306\u001b[0;31m         return self._partition_mgr_cls.get_indices(\n\u001b[0m\u001b[1;32m    307\u001b[0m             \u001b[0maxis\u001b[0m\u001b[0;34m,\u001b[0m \u001b[0mpartitions\u001b[0m\u001b[0;34m,\u001b[0m \u001b[0;32mlambda\u001b[0m \u001b[0mdf\u001b[0m\u001b[0;34m:\u001b[0m \u001b[0mdf\u001b[0m\u001b[0;34m.\u001b[0m\u001b[0maxes\u001b[0m\u001b[0;34m[\u001b[0m\u001b[0maxis\u001b[0m\u001b[0;34m]\u001b[0m\u001b[0;34m\u001b[0m\u001b[0;34m\u001b[0m\u001b[0m\n\u001b[1;32m    308\u001b[0m         )\n",
      "\u001b[0;32m~/miniconda3/envs/mlops/lib/python3.8/site-packages/modin/engines/ray/pandas_on_ray/frame/partition_manager.py\u001b[0m in \u001b[0;36mget_indices\u001b[0;34m(cls, axis, partitions, index_func)\u001b[0m\n\u001b[1;32m    135\u001b[0m                 \u001b[0;32melse\u001b[0m \u001b[0;34m[\u001b[0m\u001b[0;34m]\u001b[0m\u001b[0;34m\u001b[0m\u001b[0;34m\u001b[0m\u001b[0m\n\u001b[1;32m    136\u001b[0m             )\n\u001b[0;32m--> 137\u001b[0;31m         \u001b[0mnew_idx\u001b[0m \u001b[0;34m=\u001b[0m \u001b[0mray\u001b[0m\u001b[0;34m.\u001b[0m\u001b[0mget\u001b[0m\u001b[0;34m(\u001b[0m\u001b[0mnew_idx\u001b[0m\u001b[0;34m)\u001b[0m\u001b[0;34m\u001b[0m\u001b[0;34m\u001b[0m\u001b[0m\n\u001b[0m\u001b[1;32m    138\u001b[0m         \u001b[0;32mreturn\u001b[0m \u001b[0mnew_idx\u001b[0m\u001b[0;34m[\u001b[0m\u001b[0;36m0\u001b[0m\u001b[0;34m]\u001b[0m\u001b[0;34m.\u001b[0m\u001b[0mappend\u001b[0m\u001b[0;34m(\u001b[0m\u001b[0mnew_idx\u001b[0m\u001b[0;34m[\u001b[0m\u001b[0;36m1\u001b[0m\u001b[0;34m:\u001b[0m\u001b[0;34m]\u001b[0m\u001b[0;34m)\u001b[0m \u001b[0;32mif\u001b[0m \u001b[0mlen\u001b[0m\u001b[0;34m(\u001b[0m\u001b[0mnew_idx\u001b[0m\u001b[0;34m)\u001b[0m \u001b[0;32melse\u001b[0m \u001b[0mnew_idx\u001b[0m\u001b[0;34m\u001b[0m\u001b[0;34m\u001b[0m\u001b[0m\n\u001b[1;32m    139\u001b[0m \u001b[0;34m\u001b[0m\u001b[0m\n",
      "\u001b[0;32m~/miniconda3/envs/mlops/lib/python3.8/site-packages/ray/_private/client_mode_hook.py\u001b[0m in \u001b[0;36mwrapper\u001b[0;34m(*args, **kwargs)\u001b[0m\n\u001b[1;32m     87\u001b[0m             \u001b[0;32mif\u001b[0m \u001b[0mfunc\u001b[0m\u001b[0;34m.\u001b[0m\u001b[0m__name__\u001b[0m \u001b[0;34m!=\u001b[0m \u001b[0;34m\"init\"\u001b[0m \u001b[0;32mor\u001b[0m \u001b[0mis_client_mode_enabled_by_default\u001b[0m\u001b[0;34m:\u001b[0m\u001b[0;34m\u001b[0m\u001b[0;34m\u001b[0m\u001b[0m\n\u001b[1;32m     88\u001b[0m                 \u001b[0;32mreturn\u001b[0m \u001b[0mgetattr\u001b[0m\u001b[0;34m(\u001b[0m\u001b[0mray\u001b[0m\u001b[0;34m,\u001b[0m \u001b[0mfunc\u001b[0m\u001b[0;34m.\u001b[0m\u001b[0m__name__\u001b[0m\u001b[0;34m)\u001b[0m\u001b[0;34m(\u001b[0m\u001b[0;34m*\u001b[0m\u001b[0margs\u001b[0m\u001b[0;34m,\u001b[0m \u001b[0;34m**\u001b[0m\u001b[0mkwargs\u001b[0m\u001b[0;34m)\u001b[0m\u001b[0;34m\u001b[0m\u001b[0;34m\u001b[0m\u001b[0m\n\u001b[0;32m---> 89\u001b[0;31m         \u001b[0;32mreturn\u001b[0m \u001b[0mfunc\u001b[0m\u001b[0;34m(\u001b[0m\u001b[0;34m*\u001b[0m\u001b[0margs\u001b[0m\u001b[0;34m,\u001b[0m \u001b[0;34m**\u001b[0m\u001b[0mkwargs\u001b[0m\u001b[0;34m)\u001b[0m\u001b[0;34m\u001b[0m\u001b[0;34m\u001b[0m\u001b[0m\n\u001b[0m\u001b[1;32m     90\u001b[0m \u001b[0;34m\u001b[0m\u001b[0m\n\u001b[1;32m     91\u001b[0m     \u001b[0;32mreturn\u001b[0m \u001b[0mwrapper\u001b[0m\u001b[0;34m\u001b[0m\u001b[0;34m\u001b[0m\u001b[0m\n",
      "\u001b[0;32m~/miniconda3/envs/mlops/lib/python3.8/site-packages/ray/worker.py\u001b[0m in \u001b[0;36mget\u001b[0;34m(object_refs, timeout)\u001b[0m\n\u001b[1;32m   1619\u001b[0m                     \u001b[0mworker\u001b[0m\u001b[0;34m.\u001b[0m\u001b[0mcore_worker\u001b[0m\u001b[0;34m.\u001b[0m\u001b[0mdump_object_store_memory_usage\u001b[0m\u001b[0;34m(\u001b[0m\u001b[0;34m)\u001b[0m\u001b[0;34m\u001b[0m\u001b[0;34m\u001b[0m\u001b[0m\n\u001b[1;32m   1620\u001b[0m                 \u001b[0;32mif\u001b[0m \u001b[0misinstance\u001b[0m\u001b[0;34m(\u001b[0m\u001b[0mvalue\u001b[0m\u001b[0;34m,\u001b[0m \u001b[0mRayTaskError\u001b[0m\u001b[0;34m)\u001b[0m\u001b[0;34m:\u001b[0m\u001b[0;34m\u001b[0m\u001b[0;34m\u001b[0m\u001b[0m\n\u001b[0;32m-> 1621\u001b[0;31m                     \u001b[0;32mraise\u001b[0m \u001b[0mvalue\u001b[0m\u001b[0;34m.\u001b[0m\u001b[0mas_instanceof_cause\u001b[0m\u001b[0;34m(\u001b[0m\u001b[0;34m)\u001b[0m\u001b[0;34m\u001b[0m\u001b[0;34m\u001b[0m\u001b[0m\n\u001b[0m\u001b[1;32m   1622\u001b[0m                 \u001b[0;32melse\u001b[0m\u001b[0;34m:\u001b[0m\u001b[0;34m\u001b[0m\u001b[0;34m\u001b[0m\u001b[0m\n\u001b[1;32m   1623\u001b[0m                     \u001b[0;32mraise\u001b[0m \u001b[0mvalue\u001b[0m\u001b[0;34m\u001b[0m\u001b[0;34m\u001b[0m\u001b[0m\n",
      "\u001b[0;31mRayTaskError(ValueError)\u001b[0m: \u001b[36mray::apply_func()\u001b[39m (pid=340899, ip=10.1.0.7)\n  At least one of the input arguments for this task could not be computed:\nray.exceptions.RayTaskError: \u001b[36mray::deploy_ray_func()\u001b[39m (pid=340899, ip=10.1.0.7)\n  File \"/home/nvidiatest/miniconda3/envs/mlops/lib/python3.8/site-packages/modin/engines/ray/pandas_on_ray/frame/axis_partition.py\", line 207, in deploy_ray_func\n    result = func(*args)\n  File \"/home/nvidiatest/miniconda3/envs/mlops/lib/python3.8/site-packages/modin/engines/base/frame/axis_partition.py\", line 303, in deploy_axis_func\n    result = func(dataframe, **kwargs)\n  File \"/home/nvidiatest/miniconda3/envs/mlops/lib/python3.8/site-packages/modin/engines/base/frame/data.py\", line 1153, in _map_reduce_func\n    series_result = func(df, *args, **kwargs)\n  File \"/home/nvidiatest/miniconda3/envs/mlops/lib/python3.8/site-packages/modin/backends/pandas/query_compiler.py\", line 2478, in <lambda>\n    axis, lambda df: df.apply(func, axis=axis, *args, **kwargs)\n  File \"/home/nvidiatest/miniconda3/envs/mlops/lib/python3.8/site-packages/pandas/core/frame.py\", line 8740, in apply\n    return op.apply()\n  File \"/home/nvidiatest/miniconda3/envs/mlops/lib/python3.8/site-packages/pandas/core/apply.py\", line 688, in apply\n    return self.apply_standard()\n  File \"/home/nvidiatest/miniconda3/envs/mlops/lib/python3.8/site-packages/pandas/core/apply.py\", line 812, in apply_standard\n    results, res_index = self.apply_series_generator()\n  File \"/home/nvidiatest/miniconda3/envs/mlops/lib/python3.8/site-packages/pandas/core/apply.py\", line 828, in apply_series_generator\n    results[i] = self.f(v)\n  File \"/home/nvidiatest/miniconda3/envs/mlops/lib/python3.8/site-packages/modin/utils.py\", line 500, in wrapper\n    result = func(*args, **kwargs)\n  File \"/tmp/ipykernel_340742/3149247693.py\", line 2, in <lambda>\n  File \"/tmp/ipykernel_340742/2034051946.py\", line 6, in jfk_dist\n  File \"/home/nvidiatest/miniconda3/envs/mlops/lib/python3.8/site-packages/geopy/distance.py\", line 522, in __init__\n    super().__init__(*args, **kwargs)\n  File \"/home/nvidiatest/miniconda3/envs/mlops/lib/python3.8/site-packages/geopy/distance.py\", line 276, in __init__\n    kilometers += self.measure(a, b)\n  File \"/home/nvidiatest/miniconda3/envs/mlops/lib/python3.8/site-packages/geopy/distance.py\", line 538, in measure\n    a, b = Point(a), Point(b)\n  File \"/home/nvidiatest/miniconda3/envs/mlops/lib/python3.8/site-packages/geopy/point.py\", line 175, in __new__\n    return cls.from_sequence(seq)\n  File \"/home/nvidiatest/miniconda3/envs/mlops/lib/python3.8/site-packages/geopy/point.py\", line 472, in from_sequence\n    return cls(*args)\n  File \"/home/nvidiatest/miniconda3/envs/mlops/lib/python3.8/site-packages/geopy/point.py\", line 188, in __new__\n    _normalize_coordinates(latitude, longitude, altitude)\n  File \"/home/nvidiatest/miniconda3/envs/mlops/lib/python3.8/site-packages/geopy/point.py\", line 74, in _normalize_coordinates\n    raise ValueError('Latitude must be in the [-90; 90] range.')\nValueError: Latitude must be in the [-90; 90] range."
     ]
    }
   ],
   "source": [
    "df = calc_dists(df)\n",
    "test_df = calc_dists(test_df)"
   ]
  },
  {
   "cell_type": "code",
   "execution_count": null,
   "metadata": {
    "papermill": {
     "duration": 0.041542,
     "end_time": "2020-12-06T01:27:00.495855",
     "exception": false,
     "start_time": "2020-12-06T01:27:00.454313",
     "status": "completed"
    },
    "tags": []
   },
   "outputs": [],
   "source": [
    "# df.drop(['pickup_longitude','pickup_latitude','dropoff_longitude','dropoff_latitude'],axis=1,inplace=True)\n",
    "# test_df.drop(['pickup_longitude','pickup_latitude','dropoff_longitude','dropoff_latitude'],axis=1,inplace=True)"
   ]
  },
  {
   "cell_type": "code",
   "execution_count": null,
   "metadata": {
    "papermill": {
     "duration": 2.977763,
     "end_time": "2020-12-06T01:27:29.680498",
     "exception": false,
     "start_time": "2020-12-06T01:27:26.702735",
     "status": "completed"
    },
    "tags": []
   },
   "outputs": [],
   "source": [
    "df.describe()"
   ]
  },
  {
   "cell_type": "code",
   "execution_count": null,
   "metadata": {
    "papermill": {
     "duration": 1.048161,
     "end_time": "2020-12-06T01:27:30.769996",
     "exception": false,
     "start_time": "2020-12-06T01:27:29.721835",
     "status": "completed"
    },
    "tags": []
   },
   "outputs": [],
   "source": [
    "df = optimize(df)\n",
    "test_df = optimize(test_df)"
   ]
  },
  {
   "cell_type": "code",
   "execution_count": null,
   "metadata": {
    "papermill": {
     "duration": 1.447538,
     "end_time": "2020-12-06T01:27:32.350988",
     "exception": false,
     "start_time": "2020-12-06T01:27:30.903450",
     "status": "completed"
    },
    "tags": []
   },
   "outputs": [],
   "source": [
    "X, y = df.drop('fare_amount', axis = 1), df['fare_amount']\n",
    "X_train, X_test, y_train, y_test = train_test_split(X, y, test_size=0.2, random_state=12)"
   ]
  },
  {
   "cell_type": "code",
   "execution_count": null,
   "metadata": {
    "papermill": {
     "duration": 15770.099942,
     "end_time": "2020-12-06T05:50:22.492659",
     "exception": false,
     "start_time": "2020-12-06T01:27:32.392717",
     "status": "completed"
    },
    "tags": []
   },
   "outputs": [],
   "source": [
    "%%timeit\n",
    "dtrain = xgb.DMatrix(X_train, label=y_train)\n",
    "dvalid = xgb.DMatrix(X_test, label=y_test)\n",
    "dtest = xgb.DMatrix(test_df)\n",
    "watchlist = [(dtrain, 'train'), (dvalid, 'valid')]\n",
    "\n",
    "\"\"\"xgb_params = {\n",
    "    'min_child_weight': 1, \n",
    "    'learning_rate': 0.05, \n",
    "    'colsample_bytree': 0.7, \n",
    "    'max_depth': 10,\n",
    "    'subsample': 0.7,\n",
    "    'n_estimators': 5000,\n",
    "    'n_jobs': -1, \n",
    "    'booster' : 'gbtree', \n",
    "    'eval_metric': 'rmse'}\"\"\"\n",
    "\n",
    "xgb_params = {\n",
    "    'n_jobs': -1, \n",
    "    'booster' : 'gbtree', \n",
    "    'eval_metric': 'rmse'}\n",
    "\n",
    "#model = xgb.train(xgb_params, dtrain, 700, watchlist, early_stopping_rounds=100, maximize=False, verbose_eval=50)\n",
    "model = xgb.train(xgb_params, dtrain, num_boost_round=1000, evals=watchlist, early_stopping_rounds=10, verbose_eval=100)\n",
    "print(model)"
   ]
  },
  {
   "cell_type": "code",
   "execution_count": null,
   "metadata": {
    "papermill": {
     "duration": 531.022374,
     "end_time": "2020-12-06T05:59:13.565707",
     "exception": false,
     "start_time": "2020-12-06T05:50:22.543333",
     "status": "completed"
    },
    "tags": []
   },
   "outputs": [],
   "source": [
    "y_train_pred = model.predict(dtrain)\n",
    "y_pred = model.predict(dvalid)\n",
    "print('Train r2 score: ', r2_score(y_train_pred, y_train))\n",
    "print('Test r2 score: ', r2_score(y_test, y_pred))\n",
    "train_rmse = np.sqrt(mean_squared_error(y_train_pred, y_train))\n",
    "test_rmse = np.sqrt(mean_squared_error(y_test, y_pred))\n",
    "print(f'Train RMSE: {train_rmse:.4f}')\n",
    "print(f'Test RMSE: {test_rmse:.4f}')"
   ]
  },
  {
   "cell_type": "code",
   "execution_count": null,
   "metadata": {
    "papermill": {
     "duration": 1.421211,
     "end_time": "2020-12-06T05:59:15.036852",
     "exception": false,
     "start_time": "2020-12-06T05:59:13.615641",
     "status": "completed"
    },
    "tags": []
   },
   "outputs": [],
   "source": [
    "test_preds = model.predict(dtest)"
   ]
  },
  {
   "cell_type": "code",
   "execution_count": null,
   "metadata": {
    "papermill": {
     "duration": 0.261836,
     "end_time": "2020-12-06T05:59:15.348737",
     "exception": false,
     "start_time": "2020-12-06T05:59:15.086901",
     "status": "completed"
    },
    "tags": []
   },
   "outputs": [],
   "source": [
    "test_preds = model.predict(dtest)\n",
    "\n",
    "submission = pd.DataFrame(\n",
    "    {'key': key, 'fare_amount': test_preds},\n",
    "    columns = ['key', 'fare_amount'])\n",
    "submission.to_csv('submission1.csv', index = False)"
   ]
  }
 ],
 "metadata": {
  "kernelspec": {
   "display_name": "Python 3 (ipykernel)",
   "language": "python",
   "name": "python3"
  },
  "language_info": {
   "codemirror_mode": {
    "name": "ipython",
    "version": 3
   },
   "file_extension": ".py",
   "mimetype": "text/x-python",
   "name": "python",
   "nbconvert_exporter": "python",
   "pygments_lexer": "ipython3",
   "version": "3.8.12"
  },
  "papermill": {
   "duration": 31636.595024,
   "end_time": "2020-12-06T05:59:16.690829",
   "environment_variables": {},
   "exception": null,
   "input_path": "__notebook__.ipynb",
   "output_path": "__notebook__.ipynb",
   "parameters": {},
   "start_time": "2020-12-05T21:12:00.095805",
   "version": "2.1.0"
  }
 },
 "nbformat": 4,
 "nbformat_minor": 4
}
