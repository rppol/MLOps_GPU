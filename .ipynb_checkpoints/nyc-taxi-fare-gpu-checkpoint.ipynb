{
 "cells": [
  {
   "cell_type": "code",
   "execution_count": 1,
   "metadata": {
    "_cell_guid": "b1076dfc-b9ad-4769-8c92-a6c4dae69d19",
    "_uuid": "8f2839f25d086af736a60e9eeb907d3b93b6e0e5",
    "papermill": {
     "duration": 7.040183,
     "end_time": "2020-12-06T22:37:15.699282",
     "exception": false,
     "start_time": "2020-12-06T22:37:08.659099",
     "status": "completed"
    },
    "tags": []
   },
   "outputs": [
    {
     "name": "stderr",
     "output_type": "stream",
     "text": [
      "distributed.preloading - INFO - Import preload module: dask_cuda.initialize\n",
      "distributed.preloading - INFO - Import preload module: dask_cuda.initialize\n",
      "distributed.preloading - INFO - Import preload module: dask_cuda.initialize\n",
      "distributed.preloading - INFO - Import preload module: dask_cuda.initialize\n",
      "distributed.preloading - INFO - Import preload module: dask_cuda.initialize\n",
      "distributed.preloading - INFO - Import preload module: dask_cuda.initialize\n",
      "distributed.preloading - INFO - Import preload module: dask_cuda.initialize\n",
      "distributed.preloading - INFO - Import preload module: dask_cuda.initialize\n"
     ]
    },
    {
     "data": {
      "text/plain": [
       "False"
      ]
     },
     "execution_count": 1,
     "metadata": {},
     "output_type": "execute_result"
    }
   ],
   "source": [
    "import numpy as np\n",
    "import pandas as pd\n",
    "import xgboost as xgb\n",
    "import numba, socket\n",
    "import cudf\n",
    "import dask, dask_cudf\n",
    "from dask_cuda import LocalCUDACluster\n",
    "from dask.delayed import delayed\n",
    "import dask.dataframe as dd\n",
    "from dask.distributed import Client, wait, LocalCluster\n",
    "from dask_ml.model_selection import train_test_split\n",
    "from dask.utils import parse_bytes\n",
    "\n",
    "cluster = LocalCUDACluster(\n",
    "    rmm_pool_size=parse_bytes(\"48GB\") # Each GPU has 16GB of memory\n",
    ")\n",
    "client = Client(cluster)\n",
    "client.restart()\n",
    "\n",
    "dask.config.set({'distributed.scheduler.work-stealing': False})\n",
    "dask.config.get('distributed.scheduler.work-stealing')"
   ]
  },
  {
   "cell_type": "code",
   "execution_count": 2,
   "metadata": {
    "papermill": {
     "duration": 1.240981,
     "end_time": "2020-12-06T22:37:18.792968",
     "exception": false,
     "start_time": "2020-12-06T22:37:17.551987",
     "status": "completed"
    },
    "tags": []
   },
   "outputs": [],
   "source": [
    "df = dask_cudf.read_csv('data/train.csv')"
   ]
  },
  {
   "cell_type": "code",
   "execution_count": 3,
   "metadata": {
    "papermill": {
     "duration": 3.285283,
     "end_time": "2020-12-06T22:37:22.093124",
     "exception": false,
     "start_time": "2020-12-06T22:37:18.807841",
     "status": "completed"
    },
    "tags": []
   },
   "outputs": [],
   "source": [
    "df['key'] = df['key'].astype('datetime64[ns]')\n",
    "df['fare_amount'] = df ['fare_amount'].astype('float32')\n",
    "df['pickup_datetime'] = df['pickup_datetime'].astype('datetime64[ns]')\n",
    "df['pickup_longitude'] = df ['pickup_longitude'].astype('float32')\n",
    "df['pickup_latitude'] = df ['pickup_latitude'].astype('float32')\n",
    "df['dropoff_longitude'] = df ['dropoff_longitude'].astype('float32')\n",
    "df['dropoff_latitude'] = df ['dropoff_latitude'].astype('float32')\n",
    "df['passenger_count'] = df ['passenger_count'].astype('uint8')"
   ]
  },
  {
   "cell_type": "code",
   "execution_count": 4,
   "metadata": {
    "papermill": {
     "duration": 0.72351,
     "end_time": "2020-12-06T22:37:22.832471",
     "exception": false,
     "start_time": "2020-12-06T22:37:22.108961",
     "status": "completed"
    },
    "tags": []
   },
   "outputs": [],
   "source": [
    "# apply a list of filter conditions to throw out records with missing or outlier values\n",
    "query_frags = [\n",
    "    'fare_amount >= 2.5 and fare_amount < 500',\n",
    "    'passenger_count > 0 and passenger_count < 6',\n",
    "    'pickup_longitude > -75 and pickup_longitude < -73',\n",
    "    'dropoff_longitude > -75 and dropoff_longitude < -73',\n",
    "    'pickup_latitude > 40 and pickup_latitude < 42',\n",
    "    'dropoff_latitude > 40 and dropoff_latitude < 42'\n",
    "]\n",
    "df = df.query(' and '.join(query_frags))"
   ]
  },
  {
   "cell_type": "code",
   "execution_count": 5,
   "metadata": {
    "papermill": {
     "duration": 0.068832,
     "end_time": "2020-12-06T22:37:22.915127",
     "exception": false,
     "start_time": "2020-12-06T22:37:22.846295",
     "status": "completed"
    },
    "tags": []
   },
   "outputs": [],
   "source": [
    "import math\n",
    "from math import cos, sin, asin, sqrt, pi\n",
    "        \n",
    "def jfk_distance(dropoff_latitude, dropoff_longitude, jfk_distance):\n",
    "    for i, (x_1, y_1) in enumerate(zip(dropoff_latitude, dropoff_longitude)):\n",
    "        x_1 = pi/180 * x_1\n",
    "        y_1 = pi/180 * y_1\n",
    "        x_jfk = pi/180 * 40.6413\n",
    "        y_jfk = pi/180 * -73.7781\n",
    "        \n",
    "        dlon = y_jfk - y_1\n",
    "        dlat = x_jfk - x_1\n",
    "        a = sin(dlat/2)**2 + cos(x_1) * cos(x_jfk) * sin(dlon/2)**2\n",
    "        \n",
    "        c = 2 * asin(sqrt(a)) \n",
    "        r = 6371 # Radius of earth in kilometers\n",
    "        \n",
    "        jfk_distance[i] = c * r\n",
    "        \n",
    "def lga_distance(dropoff_latitude, dropoff_longitude, lga_distance):\n",
    "    for i, (x_1, y_1) in enumerate(zip(dropoff_latitude, dropoff_longitude)):\n",
    "        x_1 = pi/180 * x_1\n",
    "        y_1 = pi/180 * y_1\n",
    "        x_lga = pi/180 * 40.7769\n",
    "        y_lga = pi/180 * -73.8740\n",
    "        \n",
    "        dlon = y_lga - y_1\n",
    "        dlat = x_lga - x_1\n",
    "        a = sin(dlat/2)**2 + cos(x_1) * cos(x_lga) * sin(dlon/2)**2\n",
    "        \n",
    "        c = 2 * asin(sqrt(a)) \n",
    "        r = 6371 # Radius of earth in kilometers\n",
    "        \n",
    "        lga_distance[i] = c * r\n",
    "        \n",
    "def ewr_distance(dropoff_latitude, dropoff_longitude, ewr_distance):\n",
    "    for i, (x_1, y_1) in enumerate(zip(dropoff_latitude, dropoff_longitude)):\n",
    "        x_1 = pi/180 * x_1\n",
    "        y_1 = pi/180 * y_1\n",
    "        x_ewr = pi/180 * 40.6895\n",
    "        y_ewr = pi/180 * -74.1745\n",
    "        \n",
    "        dlon = y_ewr - y_1\n",
    "        dlat = x_ewr - x_1\n",
    "        a = sin(dlat/2)**2 + cos(x_1) * cos(x_ewr) * sin(dlon/2)**2\n",
    "        \n",
    "        c = 2 * asin(sqrt(a)) \n",
    "        r = 6371 # Radius of earth in kilometers\n",
    "        \n",
    "        ewr_distance[i] = c * r\n",
    "        \n",
    "def tsq_distance(dropoff_latitude, dropoff_longitude, tsq_distance):\n",
    "    for i, (x_1, y_1) in enumerate(zip(dropoff_latitude, dropoff_longitude)):\n",
    "        x_1 = pi/180 * x_1\n",
    "        y_1 = pi/180 * y_1\n",
    "        x_tsq = pi/180 * 40.7580\n",
    "        y_tsq = pi/180 * -73.9855\n",
    "        \n",
    "        dlon = y_tsq - y_1\n",
    "        dlat = x_tsq - x_1\n",
    "        a = sin(dlat/2)**2 + cos(x_1) * cos(x_tsq) * sin(dlon/2)**2\n",
    "        \n",
    "        c = 2 * asin(sqrt(a)) \n",
    "        r = 6371 # Radius of earth in kilometers\n",
    "        \n",
    "        tsq_distance[i] = c * r\n",
    "        \n",
    "def met_distance(dropoff_latitude, dropoff_longitude, met_distance):\n",
    "    for i, (x_1, y_1) in enumerate(zip(dropoff_latitude, dropoff_longitude)):\n",
    "        x_1 = pi/180 * x_1\n",
    "        y_1 = pi/180 * y_1\n",
    "        x_met = pi/180 * 40.7794\n",
    "        y_met = pi/180 * -73.9632\n",
    "        \n",
    "        dlon = y_met - y_1\n",
    "        dlat = x_met - x_1\n",
    "        a = sin(dlat/2)**2 + cos(x_1) * cos(x_met) * sin(dlon/2)**2\n",
    "        \n",
    "        c = 2 * asin(sqrt(a)) \n",
    "        r = 6371 # Radius of earth in kilometers\n",
    "        \n",
    "        met_distance[i] = c * r\n",
    "        \n",
    "def wtc_distance(dropoff_latitude, dropoff_longitude, wtc_distance):\n",
    "    for i, (x_1, y_1) in enumerate(zip(dropoff_latitude, dropoff_longitude)):\n",
    "        x_1 = pi/180 * x_1\n",
    "        y_1 = pi/180 * y_1\n",
    "        x_wtc = pi/180 * 40.7126\n",
    "        y_wtc = pi/180 * -74.0099\n",
    "        \n",
    "        dlon = y_wtc - y_1\n",
    "        dlat = x_wtc - x_1\n",
    "        a = sin(dlat/2)**2 + cos(x_1) * cos(x_wtc) * sin(dlon/2)**2\n",
    "        \n",
    "        c = 2 * asin(sqrt(a)) \n",
    "        r = 6371 # Radius of earth in kilometers\n",
    "        \n",
    "        wtc_distance[i] = c * r\n",
    "        \n",
    "def add_features(df):\n",
    "    df['hour'] = df['pickup_datetime'].dt.hour\n",
    "    df['year'] = df['pickup_datetime'].dt.year\n",
    "    df['month'] = df['pickup_datetime'].dt.month\n",
    "    df['day'] = df['pickup_datetime'].dt.day\n",
    "    df['weekday'] = df['pickup_datetime'].dt.weekday\n",
    "    \n",
    "    df = df.apply_rows(jfk_distance, incols=['dropoff_latitude', 'dropoff_longitude'],\n",
    "                       outcols=dict(jfk_distance=np.float32), kwargs=dict())\n",
    "    \n",
    "    df = df.apply_rows(lga_distance, incols=['dropoff_latitude', 'dropoff_longitude'],\n",
    "                       outcols=dict(lga_distance=np.float32), kwargs=dict())\n",
    "        \n",
    "    df = df.apply_rows(ewr_distance, incols=['dropoff_latitude', 'dropoff_longitude'],\n",
    "                       outcols=dict(ewr_distance=np.float32), kwargs=dict())\n",
    "            \n",
    "    df = df.apply_rows(tsq_distance, incols=['dropoff_latitude', 'dropoff_longitude'],\n",
    "                       outcols=dict(tsq_distance=np.float32), kwargs=dict())\n",
    "    \n",
    "    df = df.apply_rows(met_distance, incols=['dropoff_latitude', 'dropoff_longitude'],\n",
    "                       outcols=dict(met_distance=np.float32), kwargs=dict())\n",
    "    \n",
    "    df = df.apply_rows(wtc_distance, incols=['dropoff_latitude', 'dropoff_longitude'],\n",
    "                       outcols=dict(wtc_distance=np.float32), kwargs=dict())\n",
    "    \n",
    "    df = df.drop(['pickup_datetime','key'], axis=1)\n",
    "    \n",
    "    return df"
   ]
  },
  {
   "cell_type": "code",
   "execution_count": 6,
   "metadata": {
    "papermill": {
     "duration": 22.043036,
     "end_time": "2020-12-06T22:37:44.971945",
     "exception": false,
     "start_time": "2020-12-06T22:37:22.928909",
     "status": "completed"
    },
    "tags": []
   },
   "outputs": [],
   "source": [
    "# now add the features\n",
    "parts = [dask.delayed(add_features)(part) for part in df.to_delayed()]\n",
    "df = dask_cudf.from_delayed(parts)\n"
   ]
  },
  {
   "cell_type": "code",
   "execution_count": 7,
   "metadata": {
    "papermill": {
     "duration": 0.306403,
     "end_time": "2020-12-06T22:37:45.295311",
     "exception": false,
     "start_time": "2020-12-06T22:37:44.988908",
     "status": "completed"
    },
    "tags": []
   },
   "outputs": [
    {
     "name": "stderr",
     "output_type": "stream",
     "text": [
      "/home/nvidiatest/miniconda3/envs/mlops/lib/python3.8/site-packages/dask_ml/model_selection/_split.py:462: FutureWarning: The default value for 'shuffle' must be specified when splitting DataFrames. In the future DataFrames will automatically be shuffled within blocks prior to splitting. Specify 'shuffle=True' to adopt the future behavior now, or 'shuffle=False' to retain the previous behavior.\n",
      "  warnings.warn(\n"
     ]
    }
   ],
   "source": [
    "y = df['fare_amount']\n",
    "X = df.drop(['fare_amount'], axis=1)\n",
    "\n",
    "X_train, X_test, y_train, y_test = train_test_split(X, y, test_size=0.2, random_state=17)"
   ]
  },
  {
   "cell_type": "code",
   "execution_count": 12,
   "metadata": {
    "papermill": {
     "duration": 998.883894,
     "end_time": "2020-12-06T22:54:24.195726",
     "exception": false,
     "start_time": "2020-12-06T22:37:45.311832",
     "status": "completed"
    },
    "tags": []
   },
   "outputs": [
    {
     "name": "stderr",
     "output_type": "stream",
     "text": [
      "[19:41:05] task [xgboost.dask]:tcp://10.1.0.7:38745 got new rank 0\n",
      "[19:41:05] task [xgboost.dask]:tcp://10.1.0.7:36841 got new rank 1\n",
      "[19:41:05] task [xgboost.dask]:tcp://10.1.0.7:41243 got new rank 2\n",
      "[19:41:05] task [xgboost.dask]:tcp://10.1.0.7:45365 got new rank 3\n"
     ]
    },
    {
     "name": "stdout",
     "output_type": "stream",
     "text": [
      "[0]\ttrain-rmse:13.89134\tvalid-rmse:13.89349\n",
      "[100]\ttrain-rmse:4.38305\tvalid-rmse:4.39411\n",
      "[200]\ttrain-rmse:4.08317\tvalid-rmse:4.09658\n",
      "[300]\ttrain-rmse:3.95006\tvalid-rmse:3.96496\n",
      "[400]\ttrain-rmse:3.87741\tvalid-rmse:3.89451\n",
      "[500]\ttrain-rmse:3.83173\tvalid-rmse:3.85081\n",
      "[600]\ttrain-rmse:3.80098\tvalid-rmse:3.82192\n",
      "[700]\ttrain-rmse:3.77527\tvalid-rmse:3.79801\n",
      "[800]\ttrain-rmse:3.75531\tvalid-rmse:3.77970\n",
      "[900]\ttrain-rmse:3.73800\tvalid-rmse:3.76422\n",
      "[1000]\ttrain-rmse:3.72250\tvalid-rmse:3.74999\n",
      "[1100]\ttrain-rmse:3.70962\tvalid-rmse:3.73874\n",
      "[1200]\ttrain-rmse:3.69982\tvalid-rmse:3.73033\n",
      "[1300]\ttrain-rmse:3.68939\tvalid-rmse:3.72140\n",
      "[1400]\ttrain-rmse:3.68043\tvalid-rmse:3.71399\n",
      "[1500]\ttrain-rmse:3.67236\tvalid-rmse:3.70721\n",
      "[1600]\ttrain-rmse:3.66474\tvalid-rmse:3.70078\n",
      "[1700]\ttrain-rmse:3.65801\tvalid-rmse:3.69575\n",
      "[1800]\ttrain-rmse:3.65193\tvalid-rmse:3.69094\n",
      "[1900]\ttrain-rmse:3.64615\tvalid-rmse:3.68685\n",
      "[1999]\ttrain-rmse:3.64063\tvalid-rmse:3.68271\n"
     ]
    }
   ],
   "source": [
    "dtrain = xgb.dask.DaskDMatrix(client, X_train, y_train)\n",
    "dvalid = xgb.dask.DaskDMatrix(client, X_test, y_test)\n",
    "watchlist = [(dtrain, 'train'), (dvalid, 'valid')]\n",
    "\n",
    "\"\"\"params = {\n",
    "    'learning_rate': 0.1,\n",
    "    'max_depth': 11,\n",
    "    'objective': 'reg:squarederror',\n",
    "    'subsample': 0.7,\n",
    "    'colsample_bytree': 0.7,\n",
    "    'min_child_weight': 1,\n",
    "    'booster' : 'gbtree',\n",
    "    'eval_metric': [\"auc\", \"rmse\"],\n",
    "    'tree_method':'gpu_hist',\n",
    "}\"\"\"\n",
    "\n",
    "params = {\n",
    "    'booster' : 'gbtree',\n",
    "    'eval_metric': \"rmse\",\n",
    "    'tree_method':'gpu_hist',\n",
    "    'objective': 'reg:squarederror',\n",
    "    'min_child_weight': 1,\n",
    "    'colsample_bytree': 0.7,\n",
    "    'learning_rate': 0.05,\n",
    "}\n",
    "\n",
    "trained_model = xgb.dask.train(client, params, dtrain, num_boost_round=2000, evals=watchlist, early_stopping_rounds=100, verbose_eval=100)"
   ]
  },
  {
   "cell_type": "code",
   "execution_count": 28,
   "metadata": {},
   "outputs": [],
   "source": [
    "trained_model['booster'].save_model(\"xg_gpu.model\")"
   ]
  },
  {
   "cell_type": "code",
   "execution_count": 22,
   "metadata": {},
   "outputs": [
    {
     "data": {
      "text/plain": [
       "xgboost.core.Booster"
      ]
     },
     "execution_count": 22,
     "metadata": {},
     "output_type": "execute_result"
    }
   ],
   "source": [
    "type(trained_model['booster'])"
   ]
  },
  {
   "cell_type": "code",
   "execution_count": 29,
   "metadata": {},
   "outputs": [
    {
     "data": {
      "text/plain": [
       "XGBRegressor(base_score=0.5, booster='gbtree', colsample_bylevel=1,\n",
       "             colsample_bynode=1, colsample_bytree=1, gamma=0, gpu_id=-1,\n",
       "             importance_type='gain', interaction_constraints='',\n",
       "             learning_rate=0.300000012, max_delta_step=0, max_depth=6,\n",
       "             min_child_weight=1, missing=nan, monotone_constraints='()',\n",
       "             n_estimators=100, n_jobs=24, num_parallel_tree=1, random_state=0,\n",
       "             reg_alpha=0, reg_lambda=1, scale_pos_weight=1, subsample=1,\n",
       "             tree_method='auto', validate_parameters=1, verbosity=None)"
      ]
     },
     "execution_count": 29,
     "metadata": {},
     "output_type": "execute_result"
    }
   ],
   "source": [
    "model2 = xgb.XGBRegressor()\n",
    "model2.load_model(\"xg_gpu.model\")\n",
    "model2"
   ]
  },
  {
   "cell_type": "code",
   "execution_count": 9,
   "metadata": {
    "papermill": {
     "duration": 3.880214,
     "end_time": "2020-12-06T22:54:28.097170",
     "exception": false,
     "start_time": "2020-12-06T22:54:24.216956",
     "status": "completed"
    },
    "tags": []
   },
   "outputs": [
    {
     "data": {
      "text/html": [
       "<div>\n",
       "<style scoped>\n",
       "    .dataframe tbody tr th:only-of-type {\n",
       "        vertical-align: middle;\n",
       "    }\n",
       "\n",
       "    .dataframe tbody tr th {\n",
       "        vertical-align: top;\n",
       "    }\n",
       "\n",
       "    .dataframe thead th {\n",
       "        text-align: right;\n",
       "    }\n",
       "</style>\n",
       "<table border=\"1\" class=\"dataframe\">\n",
       "  <thead>\n",
       "    <tr style=\"text-align: right;\">\n",
       "      <th></th>\n",
       "      <th>pickup_longitude</th>\n",
       "      <th>pickup_latitude</th>\n",
       "      <th>dropoff_longitude</th>\n",
       "      <th>dropoff_latitude</th>\n",
       "      <th>passenger_count</th>\n",
       "      <th>hour</th>\n",
       "      <th>year</th>\n",
       "      <th>month</th>\n",
       "      <th>day</th>\n",
       "      <th>weekday</th>\n",
       "      <th>jfk_distance</th>\n",
       "      <th>lga_distance</th>\n",
       "      <th>ewr_distance</th>\n",
       "      <th>tsq_distance</th>\n",
       "      <th>met_distance</th>\n",
       "      <th>wtc_distance</th>\n",
       "    </tr>\n",
       "  </thead>\n",
       "  <tbody>\n",
       "    <tr>\n",
       "      <th>0</th>\n",
       "      <td>-73.973320</td>\n",
       "      <td>40.763805</td>\n",
       "      <td>-73.981430</td>\n",
       "      <td>40.743835</td>\n",
       "      <td>1</td>\n",
       "      <td>13</td>\n",
       "      <td>2015</td>\n",
       "      <td>1</td>\n",
       "      <td>27</td>\n",
       "      <td>1</td>\n",
       "      <td>20.588026</td>\n",
       "      <td>9.766660</td>\n",
       "      <td>17.357328</td>\n",
       "      <td>1.611907</td>\n",
       "      <td>4.242198</td>\n",
       "      <td>4.221205</td>\n",
       "    </tr>\n",
       "    <tr>\n",
       "      <th>1</th>\n",
       "      <td>-73.986862</td>\n",
       "      <td>40.719383</td>\n",
       "      <td>-73.998886</td>\n",
       "      <td>40.739201</td>\n",
       "      <td>1</td>\n",
       "      <td>13</td>\n",
       "      <td>2015</td>\n",
       "      <td>1</td>\n",
       "      <td>27</td>\n",
       "      <td>1</td>\n",
       "      <td>21.564537</td>\n",
       "      <td>11.323337</td>\n",
       "      <td>15.799259</td>\n",
       "      <td>2.375148</td>\n",
       "      <td>5.386536</td>\n",
       "      <td>3.100046</td>\n",
       "    </tr>\n",
       "    <tr>\n",
       "      <th>2</th>\n",
       "      <td>-73.982521</td>\n",
       "      <td>40.751259</td>\n",
       "      <td>-73.979652</td>\n",
       "      <td>40.746140</td>\n",
       "      <td>1</td>\n",
       "      <td>11</td>\n",
       "      <td>2011</td>\n",
       "      <td>10</td>\n",
       "      <td>8</td>\n",
       "      <td>5</td>\n",
       "      <td>20.607002</td>\n",
       "      <td>9.533081</td>\n",
       "      <td>17.587698</td>\n",
       "      <td>1.407808</td>\n",
       "      <td>3.949447</td>\n",
       "      <td>4.517171</td>\n",
       "    </tr>\n",
       "    <tr>\n",
       "      <th>3</th>\n",
       "      <td>-73.981163</td>\n",
       "      <td>40.767807</td>\n",
       "      <td>-73.990448</td>\n",
       "      <td>40.751637</td>\n",
       "      <td>1</td>\n",
       "      <td>21</td>\n",
       "      <td>2012</td>\n",
       "      <td>12</td>\n",
       "      <td>1</td>\n",
       "      <td>5</td>\n",
       "      <td>21.702700</td>\n",
       "      <td>10.201569</td>\n",
       "      <td>16.980177</td>\n",
       "      <td>0.821209</td>\n",
       "      <td>3.846622</td>\n",
       "      <td>4.639801</td>\n",
       "    </tr>\n",
       "    <tr>\n",
       "      <th>4</th>\n",
       "      <td>-73.966049</td>\n",
       "      <td>40.789776</td>\n",
       "      <td>-73.988564</td>\n",
       "      <td>40.744427</td>\n",
       "      <td>1</td>\n",
       "      <td>21</td>\n",
       "      <td>2012</td>\n",
       "      <td>12</td>\n",
       "      <td>1</td>\n",
       "      <td>5</td>\n",
       "      <td>21.126984</td>\n",
       "      <td>10.302486</td>\n",
       "      <td>16.818722</td>\n",
       "      <td>1.531182</td>\n",
       "      <td>4.436936</td>\n",
       "      <td>3.969482</td>\n",
       "    </tr>\n",
       "  </tbody>\n",
       "</table>\n",
       "</div>"
      ],
      "text/plain": [
       "   pickup_longitude  pickup_latitude  dropoff_longitude  dropoff_latitude  \\\n",
       "0        -73.973320        40.763805         -73.981430         40.743835   \n",
       "1        -73.986862        40.719383         -73.998886         40.739201   \n",
       "2        -73.982521        40.751259         -73.979652         40.746140   \n",
       "3        -73.981163        40.767807         -73.990448         40.751637   \n",
       "4        -73.966049        40.789776         -73.988564         40.744427   \n",
       "\n",
       "   passenger_count  hour  year  month  day  weekday  jfk_distance  \\\n",
       "0                1    13  2015      1   27        1     20.588026   \n",
       "1                1    13  2015      1   27        1     21.564537   \n",
       "2                1    11  2011     10    8        5     20.607002   \n",
       "3                1    21  2012     12    1        5     21.702700   \n",
       "4                1    21  2012     12    1        5     21.126984   \n",
       "\n",
       "   lga_distance  ewr_distance  tsq_distance  met_distance  wtc_distance  \n",
       "0      9.766660     17.357328      1.611907      4.242198      4.221205  \n",
       "1     11.323337     15.799259      2.375148      5.386536      3.100046  \n",
       "2      9.533081     17.587698      1.407808      3.949447      4.517171  \n",
       "3     10.201569     16.980177      0.821209      3.846622      4.639801  \n",
       "4     10.302486     16.818722      1.531182      4.436936      3.969482  "
      ]
     },
     "execution_count": 9,
     "metadata": {},
     "output_type": "execute_result"
    }
   ],
   "source": [
    "# prepare test set\n",
    "test = dask_cudf.read_csv('data/test.csv')\n",
    "\n",
    "test['key'] = test['key'].astype('datetime64[ns]')\n",
    "test['pickup_datetime'] = test['pickup_datetime'].astype('datetime64[ns]')\n",
    "test['pickup_longitude'] = test ['pickup_longitude'].astype('float32')\n",
    "test['pickup_latitude'] = test ['pickup_latitude'].astype('float32')\n",
    "test['dropoff_longitude'] = test ['dropoff_longitude'].astype('float32')\n",
    "test['dropoff_latitude'] = test ['dropoff_latitude'].astype('float32')\n",
    "test['passenger_count'] = test ['passenger_count'].astype('uint8')\n",
    "\n",
    "# now add the features\n",
    "tparts = [dask.delayed(add_features)(part) for part in test.to_delayed()]\n",
    "test = dask_cudf.from_delayed(tparts)\n",
    "\n",
    "# inspect the result\n",
    "test.head().to_pandas()"
   ]
  },
  {
   "cell_type": "code",
   "execution_count": 10,
   "metadata": {
    "papermill": {
     "duration": 9.672597,
     "end_time": "2020-12-06T22:54:37.788507",
     "exception": false,
     "start_time": "2020-12-06T22:54:28.115910",
     "status": "completed"
    },
    "tags": []
   },
   "outputs": [],
   "source": [
    "# make predictions\n",
    "dtest = xgb.dask.DaskDMatrix(client, test)\n",
    "prediction = xgb.dask.predict(client, trained_model['booster'], dtest)\n",
    "s = prediction.compute()"
   ]
  }
 ],
 "metadata": {
  "kernelspec": {
   "display_name": "Python 3 (ipykernel)",
   "language": "python",
   "name": "python3"
  },
  "language_info": {
   "codemirror_mode": {
    "name": "ipython",
    "version": 3
   },
   "file_extension": ".py",
   "mimetype": "text/x-python",
   "name": "python",
   "nbconvert_exporter": "python",
   "pygments_lexer": "ipython3",
   "version": "3.8.12"
  },
  "papermill": {
   "duration": 1184.661782,
   "end_time": "2020-12-06T22:54:38.161416",
   "environment_variables": {},
   "exception": null,
   "input_path": "__notebook__.ipynb",
   "output_path": "__notebook__.ipynb",
   "parameters": {},
   "start_time": "2020-12-06T22:34:53.499634",
   "version": "2.1.0"
  },
  "toc-autonumbering": true
 },
 "nbformat": 4,
 "nbformat_minor": 4
}
