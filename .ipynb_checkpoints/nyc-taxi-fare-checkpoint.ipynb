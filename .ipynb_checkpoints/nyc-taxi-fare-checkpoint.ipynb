{
 "cells": [
  {
   "cell_type": "markdown",
   "metadata": {
    "papermill": {
     "duration": 0.027632,
     "end_time": "2020-12-05T21:12:05.307914",
     "exception": false,
     "start_time": "2020-12-05T21:12:05.280282",
     "status": "completed"
    },
    "tags": []
   },
   "source": [
    "# NYC Taxi Fare Prediction"
   ]
  },
  {
   "cell_type": "code",
   "execution_count": 1,
   "metadata": {
    "_cell_guid": "79c7e3d0-c299-4dcb-8224-4455121ee9b0",
    "_uuid": "d629ff2d2480ee46fbb7e2d37f6b5fab8052498a",
    "execution": {
     "iopub.execute_input": "2020-12-05T21:12:05.382215Z",
     "iopub.status.busy": "2020-12-05T21:12:05.381376Z",
     "iopub.status.idle": "2020-12-05T21:12:07.687504Z",
     "shell.execute_reply": "2020-12-05T21:12:07.686305Z"
    },
    "papermill": {
     "duration": 2.351567,
     "end_time": "2020-12-05T21:12:07.687733",
     "exception": false,
     "start_time": "2020-12-05T21:12:05.336166",
     "status": "completed"
    },
    "tags": []
   },
   "outputs": [
    {
     "name": "stdout",
     "output_type": "stream",
     "text": [
      "/kaggle/input/new-york-city-taxi-fare-prediction/sample_submission.csv\n",
      "/kaggle/input/new-york-city-taxi-fare-prediction/GCP-Coupons-Instructions.rtf\n",
      "/kaggle/input/new-york-city-taxi-fare-prediction/train.csv\n",
      "/kaggle/input/new-york-city-taxi-fare-prediction/test.csv\n"
     ]
    }
   ],
   "source": [
    "%matplotlib inline\n",
    "import os\n",
    "import numpy as np\n",
    "import pandas as pd\n",
    "import matplotlib.pyplot as plt\n",
    "import seaborn as sns\n",
    "import matplotlib\n",
    "from scipy import stats\n",
    "from scipy.stats import norm, skew\n",
    "from sklearn import preprocessing\n",
    "from sklearn.metrics import r2_score\n",
    "from sklearn.metrics import mean_squared_error\n",
    "from sklearn.model_selection import train_test_split\n",
    "from xgboost import XGBRegressor, plot_importance\n",
    "from sklearn.model_selection import GridSearchCV\n",
    "from sklearn.model_selection import RandomizedSearchCV\n",
    "from sklearn.model_selection import RepeatedStratifiedKFold\n",
    "from sklearn.model_selection import StratifiedKFold\n",
    "from sklearn.model_selection import KFold\n",
    "import lightgbm as lgbm\n",
    "import xgboost as xgb\n",
    "\n",
    "for dirname, _, filenames in os.walk('/kaggle/input'):\n",
    "    for filename in filenames:\n",
    "        print(os.path.join(dirname, filename))"
   ]
  },
  {
   "cell_type": "code",
   "execution_count": 2,
   "metadata": {
    "execution": {
     "iopub.execute_input": "2020-12-05T21:12:07.750088Z",
     "iopub.status.busy": "2020-12-05T21:12:07.749360Z",
     "iopub.status.idle": "2020-12-05T21:12:21.700867Z",
     "shell.execute_reply": "2020-12-05T21:12:21.700050Z"
    },
    "papermill": {
     "duration": 13.985303,
     "end_time": "2020-12-05T21:12:21.700995",
     "exception": false,
     "start_time": "2020-12-05T21:12:07.715692",
     "status": "completed"
    },
    "tags": []
   },
   "outputs": [
    {
     "data": {
      "text/plain": [
       "((4000000, 8), (9914, 7))"
      ]
     },
     "execution_count": 2,
     "metadata": {},
     "output_type": "execute_result"
    }
   ],
   "source": [
    "df = pd.read_csv('/kaggle/input/new-york-city-taxi-fare-prediction/train.csv', nrows = 4000000)\n",
    "test_df = pd.read_csv('/kaggle/input/new-york-city-taxi-fare-prediction/test.csv')\n",
    "df.shape, test_df.shape"
   ]
  },
  {
   "cell_type": "code",
   "execution_count": 3,
   "metadata": {
    "execution": {
     "iopub.execute_input": "2020-12-05T21:12:21.775155Z",
     "iopub.status.busy": "2020-12-05T21:12:21.764775Z",
     "iopub.status.idle": "2020-12-05T21:12:21.786668Z",
     "shell.execute_reply": "2020-12-05T21:12:21.786052Z"
    },
    "papermill": {
     "duration": 0.05838,
     "end_time": "2020-12-05T21:12:21.786794",
     "exception": false,
     "start_time": "2020-12-05T21:12:21.728414",
     "status": "completed"
    },
    "tags": []
   },
   "outputs": [
    {
     "data": {
      "text/html": [
       "<div>\n",
       "<style scoped>\n",
       "    .dataframe tbody tr th:only-of-type {\n",
       "        vertical-align: middle;\n",
       "    }\n",
       "\n",
       "    .dataframe tbody tr th {\n",
       "        vertical-align: top;\n",
       "    }\n",
       "\n",
       "    .dataframe thead th {\n",
       "        text-align: right;\n",
       "    }\n",
       "</style>\n",
       "<table border=\"1\" class=\"dataframe\">\n",
       "  <thead>\n",
       "    <tr style=\"text-align: right;\">\n",
       "      <th></th>\n",
       "      <th>key</th>\n",
       "      <th>fare_amount</th>\n",
       "      <th>pickup_datetime</th>\n",
       "      <th>pickup_longitude</th>\n",
       "      <th>pickup_latitude</th>\n",
       "      <th>dropoff_longitude</th>\n",
       "      <th>dropoff_latitude</th>\n",
       "      <th>passenger_count</th>\n",
       "    </tr>\n",
       "  </thead>\n",
       "  <tbody>\n",
       "    <tr>\n",
       "      <th>0</th>\n",
       "      <td>2009-06-15 17:26:21.0000001</td>\n",
       "      <td>4.5</td>\n",
       "      <td>2009-06-15 17:26:21 UTC</td>\n",
       "      <td>-73.844311</td>\n",
       "      <td>40.721319</td>\n",
       "      <td>-73.841610</td>\n",
       "      <td>40.712278</td>\n",
       "      <td>1</td>\n",
       "    </tr>\n",
       "    <tr>\n",
       "      <th>1</th>\n",
       "      <td>2010-01-05 16:52:16.0000002</td>\n",
       "      <td>16.9</td>\n",
       "      <td>2010-01-05 16:52:16 UTC</td>\n",
       "      <td>-74.016048</td>\n",
       "      <td>40.711303</td>\n",
       "      <td>-73.979268</td>\n",
       "      <td>40.782004</td>\n",
       "      <td>1</td>\n",
       "    </tr>\n",
       "    <tr>\n",
       "      <th>2</th>\n",
       "      <td>2011-08-18 00:35:00.00000049</td>\n",
       "      <td>5.7</td>\n",
       "      <td>2011-08-18 00:35:00 UTC</td>\n",
       "      <td>-73.982738</td>\n",
       "      <td>40.761270</td>\n",
       "      <td>-73.991242</td>\n",
       "      <td>40.750562</td>\n",
       "      <td>2</td>\n",
       "    </tr>\n",
       "    <tr>\n",
       "      <th>3</th>\n",
       "      <td>2012-04-21 04:30:42.0000001</td>\n",
       "      <td>7.7</td>\n",
       "      <td>2012-04-21 04:30:42 UTC</td>\n",
       "      <td>-73.987130</td>\n",
       "      <td>40.733143</td>\n",
       "      <td>-73.991567</td>\n",
       "      <td>40.758092</td>\n",
       "      <td>1</td>\n",
       "    </tr>\n",
       "    <tr>\n",
       "      <th>4</th>\n",
       "      <td>2010-03-09 07:51:00.000000135</td>\n",
       "      <td>5.3</td>\n",
       "      <td>2010-03-09 07:51:00 UTC</td>\n",
       "      <td>-73.968095</td>\n",
       "      <td>40.768008</td>\n",
       "      <td>-73.956655</td>\n",
       "      <td>40.783762</td>\n",
       "      <td>1</td>\n",
       "    </tr>\n",
       "  </tbody>\n",
       "</table>\n",
       "</div>"
      ],
      "text/plain": [
       "                             key  fare_amount          pickup_datetime  \\\n",
       "0    2009-06-15 17:26:21.0000001          4.5  2009-06-15 17:26:21 UTC   \n",
       "1    2010-01-05 16:52:16.0000002         16.9  2010-01-05 16:52:16 UTC   \n",
       "2   2011-08-18 00:35:00.00000049          5.7  2011-08-18 00:35:00 UTC   \n",
       "3    2012-04-21 04:30:42.0000001          7.7  2012-04-21 04:30:42 UTC   \n",
       "4  2010-03-09 07:51:00.000000135          5.3  2010-03-09 07:51:00 UTC   \n",
       "\n",
       "   pickup_longitude  pickup_latitude  dropoff_longitude  dropoff_latitude  \\\n",
       "0        -73.844311        40.721319         -73.841610         40.712278   \n",
       "1        -74.016048        40.711303         -73.979268         40.782004   \n",
       "2        -73.982738        40.761270         -73.991242         40.750562   \n",
       "3        -73.987130        40.733143         -73.991567         40.758092   \n",
       "4        -73.968095        40.768008         -73.956655         40.783762   \n",
       "\n",
       "   passenger_count  \n",
       "0                1  \n",
       "1                1  \n",
       "2                2  \n",
       "3                1  \n",
       "4                1  "
      ]
     },
     "execution_count": 3,
     "metadata": {},
     "output_type": "execute_result"
    }
   ],
   "source": [
    "df.head()"
   ]
  },
  {
   "cell_type": "code",
   "execution_count": 4,
   "metadata": {
    "execution": {
     "iopub.execute_input": "2020-12-05T21:12:21.849344Z",
     "iopub.status.busy": "2020-12-05T21:12:21.848550Z",
     "iopub.status.idle": "2020-12-05T21:12:22.791167Z",
     "shell.execute_reply": "2020-12-05T21:12:22.790405Z"
    },
    "papermill": {
     "duration": 0.976155,
     "end_time": "2020-12-05T21:12:22.791291",
     "exception": false,
     "start_time": "2020-12-05T21:12:21.815136",
     "status": "completed"
    },
    "tags": []
   },
   "outputs": [
    {
     "data": {
      "text/plain": [
       "dropoff_latitude     0.000007\n",
       "dropoff_longitude    0.000007\n",
       "fare_amount          0.000000\n",
       "key                  0.000000\n",
       "passenger_count      0.000000\n",
       "pickup_datetime      0.000000\n",
       "pickup_latitude      0.000000\n",
       "pickup_longitude     0.000000\n",
       "dtype: float64"
      ]
     },
     "execution_count": 4,
     "metadata": {},
     "output_type": "execute_result"
    }
   ],
   "source": [
    "df.isnull().sum().sort_index()/len(df)"
   ]
  },
  {
   "cell_type": "code",
   "execution_count": 5,
   "metadata": {
    "execution": {
     "iopub.execute_input": "2020-12-05T21:12:22.878566Z",
     "iopub.status.busy": "2020-12-05T21:12:22.877696Z",
     "iopub.status.idle": "2020-12-05T21:12:23.221314Z",
     "shell.execute_reply": "2020-12-05T21:12:23.220626Z"
    },
    "papermill": {
     "duration": 0.401679,
     "end_time": "2020-12-05T21:12:23.221446",
     "exception": false,
     "start_time": "2020-12-05T21:12:22.819767",
     "status": "completed"
    },
    "tags": []
   },
   "outputs": [],
   "source": [
    "df.dropna(subset=['dropoff_latitude', 'dropoff_longitude'], inplace = True)"
   ]
  },
  {
   "cell_type": "code",
   "execution_count": 6,
   "metadata": {
    "execution": {
     "iopub.execute_input": "2020-12-05T21:12:23.377623Z",
     "iopub.status.busy": "2020-12-05T21:12:23.376786Z",
     "iopub.status.idle": "2020-12-05T21:12:24.236675Z",
     "shell.execute_reply": "2020-12-05T21:12:24.235512Z"
    },
    "papermill": {
     "duration": 0.986638,
     "end_time": "2020-12-05T21:12:24.236872",
     "exception": false,
     "start_time": "2020-12-05T21:12:23.250234",
     "status": "completed"
    },
    "tags": []
   },
   "outputs": [
    {
     "data": {
      "text/html": [
       "<div>\n",
       "<style scoped>\n",
       "    .dataframe tbody tr th:only-of-type {\n",
       "        vertical-align: middle;\n",
       "    }\n",
       "\n",
       "    .dataframe tbody tr th {\n",
       "        vertical-align: top;\n",
       "    }\n",
       "\n",
       "    .dataframe thead th {\n",
       "        text-align: right;\n",
       "    }\n",
       "</style>\n",
       "<table border=\"1\" class=\"dataframe\">\n",
       "  <thead>\n",
       "    <tr style=\"text-align: right;\">\n",
       "      <th></th>\n",
       "      <th>fare_amount</th>\n",
       "      <th>pickup_longitude</th>\n",
       "      <th>pickup_latitude</th>\n",
       "      <th>dropoff_longitude</th>\n",
       "      <th>dropoff_latitude</th>\n",
       "      <th>passenger_count</th>\n",
       "    </tr>\n",
       "  </thead>\n",
       "  <tbody>\n",
       "    <tr>\n",
       "      <th>count</th>\n",
       "      <td>3.999971e+06</td>\n",
       "      <td>3.999971e+06</td>\n",
       "      <td>3.999971e+06</td>\n",
       "      <td>3.999971e+06</td>\n",
       "      <td>3.999971e+06</td>\n",
       "      <td>3.999971e+06</td>\n",
       "    </tr>\n",
       "    <tr>\n",
       "      <th>mean</th>\n",
       "      <td>1.134389e+01</td>\n",
       "      <td>-7.250845e+01</td>\n",
       "      <td>3.991910e+01</td>\n",
       "      <td>-7.250871e+01</td>\n",
       "      <td>3.991789e+01</td>\n",
       "      <td>1.684346e+00</td>\n",
       "    </tr>\n",
       "    <tr>\n",
       "      <th>std</th>\n",
       "      <td>9.824417e+00</td>\n",
       "      <td>1.312180e+01</td>\n",
       "      <td>8.797877e+00</td>\n",
       "      <td>1.289308e+01</td>\n",
       "      <td>9.716855e+00</td>\n",
       "      <td>1.329068e+00</td>\n",
       "    </tr>\n",
       "    <tr>\n",
       "      <th>min</th>\n",
       "      <td>-6.200000e+01</td>\n",
       "      <td>-3.426609e+03</td>\n",
       "      <td>-3.488080e+03</td>\n",
       "      <td>-3.412653e+03</td>\n",
       "      <td>-3.488080e+03</td>\n",
       "      <td>0.000000e+00</td>\n",
       "    </tr>\n",
       "    <tr>\n",
       "      <th>25%</th>\n",
       "      <td>6.000000e+00</td>\n",
       "      <td>-7.399207e+01</td>\n",
       "      <td>4.073491e+01</td>\n",
       "      <td>-7.399139e+01</td>\n",
       "      <td>4.073403e+01</td>\n",
       "      <td>1.000000e+00</td>\n",
       "    </tr>\n",
       "    <tr>\n",
       "      <th>50%</th>\n",
       "      <td>8.500000e+00</td>\n",
       "      <td>-7.398181e+01</td>\n",
       "      <td>4.075263e+01</td>\n",
       "      <td>-7.398016e+01</td>\n",
       "      <td>4.075315e+01</td>\n",
       "      <td>1.000000e+00</td>\n",
       "    </tr>\n",
       "    <tr>\n",
       "      <th>75%</th>\n",
       "      <td>1.250000e+01</td>\n",
       "      <td>-7.396710e+01</td>\n",
       "      <td>4.076711e+01</td>\n",
       "      <td>-7.396366e+01</td>\n",
       "      <td>4.076812e+01</td>\n",
       "      <td>2.000000e+00</td>\n",
       "    </tr>\n",
       "    <tr>\n",
       "      <th>max</th>\n",
       "      <td>1.273310e+03</td>\n",
       "      <td>3.439426e+03</td>\n",
       "      <td>2.912465e+03</td>\n",
       "      <td>3.457622e+03</td>\n",
       "      <td>3.345917e+03</td>\n",
       "      <td>2.080000e+02</td>\n",
       "    </tr>\n",
       "  </tbody>\n",
       "</table>\n",
       "</div>"
      ],
      "text/plain": [
       "        fare_amount  pickup_longitude  pickup_latitude  dropoff_longitude  \\\n",
       "count  3.999971e+06      3.999971e+06     3.999971e+06       3.999971e+06   \n",
       "mean   1.134389e+01     -7.250845e+01     3.991910e+01      -7.250871e+01   \n",
       "std    9.824417e+00      1.312180e+01     8.797877e+00       1.289308e+01   \n",
       "min   -6.200000e+01     -3.426609e+03    -3.488080e+03      -3.412653e+03   \n",
       "25%    6.000000e+00     -7.399207e+01     4.073491e+01      -7.399139e+01   \n",
       "50%    8.500000e+00     -7.398181e+01     4.075263e+01      -7.398016e+01   \n",
       "75%    1.250000e+01     -7.396710e+01     4.076711e+01      -7.396366e+01   \n",
       "max    1.273310e+03      3.439426e+03     2.912465e+03       3.457622e+03   \n",
       "\n",
       "       dropoff_latitude  passenger_count  \n",
       "count      3.999971e+06     3.999971e+06  \n",
       "mean       3.991789e+01     1.684346e+00  \n",
       "std        9.716855e+00     1.329068e+00  \n",
       "min       -3.488080e+03     0.000000e+00  \n",
       "25%        4.073403e+01     1.000000e+00  \n",
       "50%        4.075315e+01     1.000000e+00  \n",
       "75%        4.076812e+01     2.000000e+00  \n",
       "max        3.345917e+03     2.080000e+02  "
      ]
     },
     "execution_count": 6,
     "metadata": {},
     "output_type": "execute_result"
    }
   ],
   "source": [
    "df.describe()"
   ]
  },
  {
   "cell_type": "code",
   "execution_count": 7,
   "metadata": {
    "execution": {
     "iopub.execute_input": "2020-12-05T21:12:24.310228Z",
     "iopub.status.busy": "2020-12-05T21:12:24.308858Z",
     "iopub.status.idle": "2020-12-05T21:12:25.731778Z",
     "shell.execute_reply": "2020-12-05T21:12:25.731000Z"
    },
    "papermill": {
     "duration": 1.459676,
     "end_time": "2020-12-05T21:12:25.731911",
     "exception": false,
     "start_time": "2020-12-05T21:12:24.272235",
     "status": "completed"
    },
    "tags": []
   },
   "outputs": [],
   "source": [
    "df.drop(df[df['fare_amount'] < 2.5].index, axis=0, inplace = True)\n",
    "df.drop(df[df['fare_amount'] > 500].index, axis=0, inplace = True)"
   ]
  },
  {
   "cell_type": "code",
   "execution_count": 8,
   "metadata": {
    "execution": {
     "iopub.execute_input": "2020-12-05T21:12:25.800878Z",
     "iopub.status.busy": "2020-12-05T21:12:25.799996Z",
     "iopub.status.idle": "2020-12-05T21:12:25.825738Z",
     "shell.execute_reply": "2020-12-05T21:12:25.824956Z"
    },
    "papermill": {
     "duration": 0.063546,
     "end_time": "2020-12-05T21:12:25.825867",
     "exception": false,
     "start_time": "2020-12-05T21:12:25.762321",
     "status": "completed"
    },
    "tags": []
   },
   "outputs": [
    {
     "data": {
      "text/html": [
       "<div>\n",
       "<style scoped>\n",
       "    .dataframe tbody tr th:only-of-type {\n",
       "        vertical-align: middle;\n",
       "    }\n",
       "\n",
       "    .dataframe tbody tr th {\n",
       "        vertical-align: top;\n",
       "    }\n",
       "\n",
       "    .dataframe thead th {\n",
       "        text-align: right;\n",
       "    }\n",
       "</style>\n",
       "<table border=\"1\" class=\"dataframe\">\n",
       "  <thead>\n",
       "    <tr style=\"text-align: right;\">\n",
       "      <th></th>\n",
       "      <th>pickup_longitude</th>\n",
       "      <th>pickup_latitude</th>\n",
       "      <th>dropoff_longitude</th>\n",
       "      <th>dropoff_latitude</th>\n",
       "      <th>passenger_count</th>\n",
       "    </tr>\n",
       "  </thead>\n",
       "  <tbody>\n",
       "    <tr>\n",
       "      <th>count</th>\n",
       "      <td>9914.000000</td>\n",
       "      <td>9914.000000</td>\n",
       "      <td>9914.000000</td>\n",
       "      <td>9914.000000</td>\n",
       "      <td>9914.000000</td>\n",
       "    </tr>\n",
       "    <tr>\n",
       "      <th>mean</th>\n",
       "      <td>-73.974722</td>\n",
       "      <td>40.751041</td>\n",
       "      <td>-73.973657</td>\n",
       "      <td>40.751743</td>\n",
       "      <td>1.671273</td>\n",
       "    </tr>\n",
       "    <tr>\n",
       "      <th>std</th>\n",
       "      <td>0.042774</td>\n",
       "      <td>0.033541</td>\n",
       "      <td>0.039072</td>\n",
       "      <td>0.035435</td>\n",
       "      <td>1.278747</td>\n",
       "    </tr>\n",
       "    <tr>\n",
       "      <th>min</th>\n",
       "      <td>-74.252193</td>\n",
       "      <td>40.573143</td>\n",
       "      <td>-74.263242</td>\n",
       "      <td>40.568973</td>\n",
       "      <td>1.000000</td>\n",
       "    </tr>\n",
       "    <tr>\n",
       "      <th>25%</th>\n",
       "      <td>-73.992501</td>\n",
       "      <td>40.736125</td>\n",
       "      <td>-73.991247</td>\n",
       "      <td>40.735254</td>\n",
       "      <td>1.000000</td>\n",
       "    </tr>\n",
       "    <tr>\n",
       "      <th>50%</th>\n",
       "      <td>-73.982326</td>\n",
       "      <td>40.753051</td>\n",
       "      <td>-73.980015</td>\n",
       "      <td>40.754065</td>\n",
       "      <td>1.000000</td>\n",
       "    </tr>\n",
       "    <tr>\n",
       "      <th>75%</th>\n",
       "      <td>-73.968013</td>\n",
       "      <td>40.767113</td>\n",
       "      <td>-73.964059</td>\n",
       "      <td>40.768757</td>\n",
       "      <td>2.000000</td>\n",
       "    </tr>\n",
       "    <tr>\n",
       "      <th>max</th>\n",
       "      <td>-72.986532</td>\n",
       "      <td>41.709555</td>\n",
       "      <td>-72.990963</td>\n",
       "      <td>41.696683</td>\n",
       "      <td>6.000000</td>\n",
       "    </tr>\n",
       "  </tbody>\n",
       "</table>\n",
       "</div>"
      ],
      "text/plain": [
       "       pickup_longitude  pickup_latitude  dropoff_longitude  dropoff_latitude  \\\n",
       "count       9914.000000      9914.000000        9914.000000       9914.000000   \n",
       "mean         -73.974722        40.751041         -73.973657         40.751743   \n",
       "std            0.042774         0.033541           0.039072          0.035435   \n",
       "min          -74.252193        40.573143         -74.263242         40.568973   \n",
       "25%          -73.992501        40.736125         -73.991247         40.735254   \n",
       "50%          -73.982326        40.753051         -73.980015         40.754065   \n",
       "75%          -73.968013        40.767113         -73.964059         40.768757   \n",
       "max          -72.986532        41.709555         -72.990963         41.696683   \n",
       "\n",
       "       passenger_count  \n",
       "count      9914.000000  \n",
       "mean          1.671273  \n",
       "std           1.278747  \n",
       "min           1.000000  \n",
       "25%           1.000000  \n",
       "50%           1.000000  \n",
       "75%           2.000000  \n",
       "max           6.000000  "
      ]
     },
     "execution_count": 8,
     "metadata": {},
     "output_type": "execute_result"
    }
   ],
   "source": [
    "test_df.describe()"
   ]
  },
  {
   "cell_type": "code",
   "execution_count": 9,
   "metadata": {
    "execution": {
     "iopub.execute_input": "2020-12-05T21:12:25.894585Z",
     "iopub.status.busy": "2020-12-05T21:12:25.893308Z",
     "iopub.status.idle": "2020-12-05T21:12:25.966474Z",
     "shell.execute_reply": "2020-12-05T21:12:25.965529Z"
    },
    "papermill": {
     "duration": 0.109675,
     "end_time": "2020-12-05T21:12:25.966643",
     "exception": false,
     "start_time": "2020-12-05T21:12:25.856968",
     "status": "completed"
    },
    "tags": []
   },
   "outputs": [
    {
     "data": {
      "text/html": [
       "<div>\n",
       "<style scoped>\n",
       "    .dataframe tbody tr th:only-of-type {\n",
       "        vertical-align: middle;\n",
       "    }\n",
       "\n",
       "    .dataframe tbody tr th {\n",
       "        vertical-align: top;\n",
       "    }\n",
       "\n",
       "    .dataframe thead th {\n",
       "        text-align: right;\n",
       "    }\n",
       "</style>\n",
       "<table border=\"1\" class=\"dataframe\">\n",
       "  <thead>\n",
       "    <tr style=\"text-align: right;\">\n",
       "      <th></th>\n",
       "      <th>key</th>\n",
       "      <th>fare_amount</th>\n",
       "      <th>pickup_datetime</th>\n",
       "      <th>pickup_longitude</th>\n",
       "      <th>pickup_latitude</th>\n",
       "      <th>dropoff_longitude</th>\n",
       "      <th>dropoff_latitude</th>\n",
       "      <th>passenger_count</th>\n",
       "    </tr>\n",
       "  </thead>\n",
       "  <tbody>\n",
       "    <tr>\n",
       "      <th>38</th>\n",
       "      <td>2013-11-24 11:42:00.000000113</td>\n",
       "      <td>9.00</td>\n",
       "      <td>2013-11-24 11:42:00 UTC</td>\n",
       "      <td>-73.957740</td>\n",
       "      <td>40.773617</td>\n",
       "      <td>-73.977087</td>\n",
       "      <td>40.758465</td>\n",
       "      <td>6</td>\n",
       "    </tr>\n",
       "    <tr>\n",
       "      <th>2669691</th>\n",
       "      <td>2009-05-30 10:41:00.00000024</td>\n",
       "      <td>49.15</td>\n",
       "      <td>2009-05-30 10:41:00 UTC</td>\n",
       "      <td>-73.780313</td>\n",
       "      <td>40.645430</td>\n",
       "      <td>-73.980503</td>\n",
       "      <td>40.760318</td>\n",
       "      <td>6</td>\n",
       "    </tr>\n",
       "    <tr>\n",
       "      <th>2669688</th>\n",
       "      <td>2013-06-15 05:51:00.00000012</td>\n",
       "      <td>4.50</td>\n",
       "      <td>2013-06-15 05:51:00 UTC</td>\n",
       "      <td>-74.002810</td>\n",
       "      <td>40.733927</td>\n",
       "      <td>-74.006502</td>\n",
       "      <td>40.737720</td>\n",
       "      <td>6</td>\n",
       "    </tr>\n",
       "    <tr>\n",
       "      <th>2669559</th>\n",
       "      <td>2014-12-21 13:54:00.000000191</td>\n",
       "      <td>30.00</td>\n",
       "      <td>2014-12-21 13:54:00 UTC</td>\n",
       "      <td>-73.862770</td>\n",
       "      <td>40.768960</td>\n",
       "      <td>-73.762060</td>\n",
       "      <td>40.764840</td>\n",
       "      <td>6</td>\n",
       "    </tr>\n",
       "    <tr>\n",
       "      <th>2669486</th>\n",
       "      <td>2014-08-01 21:33:00.000000142</td>\n",
       "      <td>29.00</td>\n",
       "      <td>2014-08-01 21:33:00 UTC</td>\n",
       "      <td>-73.960020</td>\n",
       "      <td>40.773450</td>\n",
       "      <td>-73.845380</td>\n",
       "      <td>40.721610</td>\n",
       "      <td>6</td>\n",
       "    </tr>\n",
       "    <tr>\n",
       "      <th>...</th>\n",
       "      <td>...</td>\n",
       "      <td>...</td>\n",
       "      <td>...</td>\n",
       "      <td>...</td>\n",
       "      <td>...</td>\n",
       "      <td>...</td>\n",
       "      <td>...</td>\n",
       "      <td>...</td>\n",
       "    </tr>\n",
       "    <tr>\n",
       "      <th>929022</th>\n",
       "      <td>2009-07-30 11:54:00.000000193</td>\n",
       "      <td>3.30</td>\n",
       "      <td>2009-07-30 11:54:00 UTC</td>\n",
       "      <td>0.000000</td>\n",
       "      <td>0.000000</td>\n",
       "      <td>0.000000</td>\n",
       "      <td>0.000000</td>\n",
       "      <td>208</td>\n",
       "    </tr>\n",
       "    <tr>\n",
       "      <th>2910347</th>\n",
       "      <td>2010-12-16 06:44:00.00000039</td>\n",
       "      <td>4.50</td>\n",
       "      <td>2010-12-16 06:44:00 UTC</td>\n",
       "      <td>0.000000</td>\n",
       "      <td>0.000000</td>\n",
       "      <td>0.000000</td>\n",
       "      <td>0.000000</td>\n",
       "      <td>208</td>\n",
       "    </tr>\n",
       "    <tr>\n",
       "      <th>3107489</th>\n",
       "      <td>2009-05-12 14:50:00.000000175</td>\n",
       "      <td>2.70</td>\n",
       "      <td>2009-05-12 14:50:00 UTC</td>\n",
       "      <td>-73.937818</td>\n",
       "      <td>40.758260</td>\n",
       "      <td>-73.937827</td>\n",
       "      <td>40.758250</td>\n",
       "      <td>208</td>\n",
       "    </tr>\n",
       "    <tr>\n",
       "      <th>2154045</th>\n",
       "      <td>2010-12-16 11:21:00.000000209</td>\n",
       "      <td>3.30</td>\n",
       "      <td>2010-12-16 11:21:00 UTC</td>\n",
       "      <td>0.000000</td>\n",
       "      <td>0.000000</td>\n",
       "      <td>0.000000</td>\n",
       "      <td>0.000000</td>\n",
       "      <td>208</td>\n",
       "    </tr>\n",
       "    <tr>\n",
       "      <th>2198549</th>\n",
       "      <td>2010-12-15 14:20:00.00000010</td>\n",
       "      <td>3.30</td>\n",
       "      <td>2010-12-15 14:20:00 UTC</td>\n",
       "      <td>0.000000</td>\n",
       "      <td>0.000000</td>\n",
       "      <td>0.000000</td>\n",
       "      <td>0.000000</td>\n",
       "      <td>208</td>\n",
       "    </tr>\n",
       "  </tbody>\n",
       "</table>\n",
       "<p>84286 rows × 8 columns</p>\n",
       "</div>"
      ],
      "text/plain": [
       "                                   key  fare_amount          pickup_datetime  \\\n",
       "38       2013-11-24 11:42:00.000000113         9.00  2013-11-24 11:42:00 UTC   \n",
       "2669691   2009-05-30 10:41:00.00000024        49.15  2009-05-30 10:41:00 UTC   \n",
       "2669688   2013-06-15 05:51:00.00000012         4.50  2013-06-15 05:51:00 UTC   \n",
       "2669559  2014-12-21 13:54:00.000000191        30.00  2014-12-21 13:54:00 UTC   \n",
       "2669486  2014-08-01 21:33:00.000000142        29.00  2014-08-01 21:33:00 UTC   \n",
       "...                                ...          ...                      ...   \n",
       "929022   2009-07-30 11:54:00.000000193         3.30  2009-07-30 11:54:00 UTC   \n",
       "2910347   2010-12-16 06:44:00.00000039         4.50  2010-12-16 06:44:00 UTC   \n",
       "3107489  2009-05-12 14:50:00.000000175         2.70  2009-05-12 14:50:00 UTC   \n",
       "2154045  2010-12-16 11:21:00.000000209         3.30  2010-12-16 11:21:00 UTC   \n",
       "2198549   2010-12-15 14:20:00.00000010         3.30  2010-12-15 14:20:00 UTC   \n",
       "\n",
       "         pickup_longitude  pickup_latitude  dropoff_longitude  \\\n",
       "38             -73.957740        40.773617         -73.977087   \n",
       "2669691        -73.780313        40.645430         -73.980503   \n",
       "2669688        -74.002810        40.733927         -74.006502   \n",
       "2669559        -73.862770        40.768960         -73.762060   \n",
       "2669486        -73.960020        40.773450         -73.845380   \n",
       "...                   ...              ...                ...   \n",
       "929022           0.000000         0.000000           0.000000   \n",
       "2910347          0.000000         0.000000           0.000000   \n",
       "3107489        -73.937818        40.758260         -73.937827   \n",
       "2154045          0.000000         0.000000           0.000000   \n",
       "2198549          0.000000         0.000000           0.000000   \n",
       "\n",
       "         dropoff_latitude  passenger_count  \n",
       "38              40.758465                6  \n",
       "2669691         40.760318                6  \n",
       "2669688         40.737720                6  \n",
       "2669559         40.764840                6  \n",
       "2669486         40.721610                6  \n",
       "...                   ...              ...  \n",
       "929022           0.000000              208  \n",
       "2910347          0.000000              208  \n",
       "3107489         40.758250              208  \n",
       "2154045          0.000000              208  \n",
       "2198549          0.000000              208  \n",
       "\n",
       "[84286 rows x 8 columns]"
      ]
     },
     "execution_count": 9,
     "metadata": {},
     "output_type": "execute_result"
    }
   ],
   "source": [
    "df[df['passenger_count'] > 5].sort_values('passenger_count')"
   ]
  },
  {
   "cell_type": "code",
   "execution_count": 10,
   "metadata": {
    "execution": {
     "iopub.execute_input": "2020-12-05T21:12:26.046790Z",
     "iopub.status.busy": "2020-12-05T21:12:26.045989Z",
     "iopub.status.idle": "2020-12-05T21:12:30.880993Z",
     "shell.execute_reply": "2020-12-05T21:12:30.880394Z"
    },
    "papermill": {
     "duration": 4.881202,
     "end_time": "2020-12-05T21:12:30.881153",
     "exception": false,
     "start_time": "2020-12-05T21:12:25.999951",
     "status": "completed"
    },
    "tags": []
   },
   "outputs": [],
   "source": [
    "df.drop(df[df['pickup_longitude'] == 0].index, axis=0, inplace = True)\n",
    "df.drop(df[df['pickup_latitude'] == 0].index, axis=0, inplace = True)\n",
    "df.drop(df[df['dropoff_longitude'] == 0].index, axis=0, inplace = True)\n",
    "df.drop(df[df['dropoff_latitude'] == 0].index, axis=0, inplace = True)\n",
    "df.drop(df[df['passenger_count'] == 208].index, axis=0, inplace = True)\n",
    "df.drop(df[df['passenger_count'] > 5].index, axis=0, inplace = True)\n",
    "df.drop(df[df['passenger_count'] == 0].index, axis=0, inplace = True)"
   ]
  },
  {
   "cell_type": "code",
   "execution_count": 11,
   "metadata": {
    "execution": {
     "iopub.execute_input": "2020-12-05T21:12:32.488957Z",
     "iopub.status.busy": "2020-12-05T21:12:32.488172Z",
     "iopub.status.idle": "2020-12-05T21:23:59.355092Z",
     "shell.execute_reply": "2020-12-05T21:23:59.354305Z"
    },
    "papermill": {
     "duration": 688.44216,
     "end_time": "2020-12-05T21:23:59.355251",
     "exception": false,
     "start_time": "2020-12-05T21:12:30.913091",
     "status": "completed"
    },
    "tags": []
   },
   "outputs": [],
   "source": [
    "df['key'] = pd.to_datetime(df['key'])\n",
    "key = test_df.key\n",
    "test_df['key'] = pd.to_datetime(test_df['key'])\n",
    "df['pickup_datetime']  = pd.to_datetime(df['pickup_datetime'])\n",
    "test_df['pickup_datetime']  = pd.to_datetime(test_df['pickup_datetime'])"
   ]
  },
  {
   "cell_type": "code",
   "execution_count": 12,
   "metadata": {
    "execution": {
     "iopub.execute_input": "2020-12-05T21:23:59.434074Z",
     "iopub.status.busy": "2020-12-05T21:23:59.433312Z",
     "iopub.status.idle": "2020-12-05T21:24:02.139595Z",
     "shell.execute_reply": "2020-12-05T21:24:02.138816Z"
    },
    "papermill": {
     "duration": 2.750646,
     "end_time": "2020-12-05T21:24:02.139722",
     "exception": false,
     "start_time": "2020-12-05T21:23:59.389076",
     "status": "completed"
    },
    "tags": []
   },
   "outputs": [],
   "source": [
    "df['Year'] = df['pickup_datetime'].dt.year\n",
    "df['Month'] = df['pickup_datetime'].dt.month\n",
    "df['Date'] = df['pickup_datetime'].dt.day\n",
    "df['Day of Week'] = df['pickup_datetime'].dt.dayofweek\n",
    "df['Hour'] = df['pickup_datetime'].dt.hour\n",
    "df.drop('pickup_datetime', axis = 1, inplace = True)\n",
    "df.drop('key', axis = 1, inplace = True)\n",
    "\n",
    "test_df['Year'] = test_df['pickup_datetime'].dt.year\n",
    "test_df['Month'] = test_df['pickup_datetime'].dt.month\n",
    "test_df['Date'] = test_df['pickup_datetime'].dt.day\n",
    "test_df['Day of Week'] = test_df['pickup_datetime'].dt.dayofweek\n",
    "test_df['Hour'] = test_df['pickup_datetime'].dt.hour\n",
    "test_df.drop('pickup_datetime', axis = 1, inplace = True)\n",
    "test_df.drop('key', axis = 1, inplace = True)"
   ]
  },
  {
   "cell_type": "code",
   "execution_count": 13,
   "metadata": {
    "execution": {
     "iopub.execute_input": "2020-12-05T21:24:02.214978Z",
     "iopub.status.busy": "2020-12-05T21:24:02.213660Z",
     "iopub.status.idle": "2020-12-05T21:24:03.594155Z",
     "shell.execute_reply": "2020-12-05T21:24:03.593523Z"
    },
    "papermill": {
     "duration": 1.422088,
     "end_time": "2020-12-05T21:24:03.594292",
     "exception": false,
     "start_time": "2020-12-05T21:24:02.172204",
     "status": "completed"
    },
    "tags": []
   },
   "outputs": [],
   "source": [
    "df.dropna(inplace=True)\n",
    "\n",
    "df.drop(df.index[(df.pickup_longitude < -75) | \n",
    "           (df.pickup_longitude > -72) | \n",
    "           (df.pickup_latitude < 40) | \n",
    "           (df.pickup_latitude > 42)],inplace=True)\n",
    "df.drop(df.index[(df.dropoff_longitude < -75) | \n",
    "           (df.dropoff_longitude > -72) | \n",
    "           (df.dropoff_latitude < 40) | \n",
    "           (df.dropoff_latitude > 42)],inplace=True)"
   ]
  },
  {
   "cell_type": "code",
   "execution_count": 14,
   "metadata": {
    "execution": {
     "iopub.execute_input": "2020-12-05T21:24:03.779888Z",
     "iopub.status.busy": "2020-12-05T21:24:03.779093Z",
     "iopub.status.idle": "2020-12-05T21:24:05.152347Z",
     "shell.execute_reply": "2020-12-05T21:24:05.151684Z"
    },
    "papermill": {
     "duration": 1.524487,
     "end_time": "2020-12-05T21:24:05.152481",
     "exception": false,
     "start_time": "2020-12-05T21:24:03.627994",
     "status": "completed"
    },
    "tags": []
   },
   "outputs": [
    {
     "data": {
      "text/html": [
       "<div>\n",
       "<style scoped>\n",
       "    .dataframe tbody tr th:only-of-type {\n",
       "        vertical-align: middle;\n",
       "    }\n",
       "\n",
       "    .dataframe tbody tr th {\n",
       "        vertical-align: top;\n",
       "    }\n",
       "\n",
       "    .dataframe thead th {\n",
       "        text-align: right;\n",
       "    }\n",
       "</style>\n",
       "<table border=\"1\" class=\"dataframe\">\n",
       "  <thead>\n",
       "    <tr style=\"text-align: right;\">\n",
       "      <th></th>\n",
       "      <th>fare_amount</th>\n",
       "      <th>pickup_longitude</th>\n",
       "      <th>pickup_latitude</th>\n",
       "      <th>dropoff_longitude</th>\n",
       "      <th>dropoff_latitude</th>\n",
       "      <th>passenger_count</th>\n",
       "      <th>Year</th>\n",
       "      <th>Month</th>\n",
       "      <th>Date</th>\n",
       "      <th>Day of Week</th>\n",
       "      <th>Hour</th>\n",
       "    </tr>\n",
       "  </thead>\n",
       "  <tbody>\n",
       "    <tr>\n",
       "      <th>count</th>\n",
       "      <td>3.819140e+06</td>\n",
       "      <td>3.819140e+06</td>\n",
       "      <td>3.819140e+06</td>\n",
       "      <td>3.819140e+06</td>\n",
       "      <td>3.819140e+06</td>\n",
       "      <td>3.819140e+06</td>\n",
       "      <td>3.819140e+06</td>\n",
       "      <td>3.819140e+06</td>\n",
       "      <td>3.819140e+06</td>\n",
       "      <td>3.819140e+06</td>\n",
       "      <td>3.819140e+06</td>\n",
       "    </tr>\n",
       "    <tr>\n",
       "      <th>mean</th>\n",
       "      <td>1.131700e+01</td>\n",
       "      <td>-7.397517e+01</td>\n",
       "      <td>4.075104e+01</td>\n",
       "      <td>-7.397431e+01</td>\n",
       "      <td>4.075141e+01</td>\n",
       "      <td>1.597039e+00</td>\n",
       "      <td>2.011711e+03</td>\n",
       "      <td>6.269253e+00</td>\n",
       "      <td>1.571454e+01</td>\n",
       "      <td>3.041087e+00</td>\n",
       "      <td>1.351524e+01</td>\n",
       "    </tr>\n",
       "    <tr>\n",
       "      <th>std</th>\n",
       "      <td>9.707807e+00</td>\n",
       "      <td>3.926750e-02</td>\n",
       "      <td>3.013788e-02</td>\n",
       "      <td>3.840141e-02</td>\n",
       "      <td>3.327719e-02</td>\n",
       "      <td>1.153872e+00</td>\n",
       "      <td>1.865753e+00</td>\n",
       "      <td>3.435507e+00</td>\n",
       "      <td>8.684408e+00</td>\n",
       "      <td>1.949681e+00</td>\n",
       "      <td>6.517610e+00</td>\n",
       "    </tr>\n",
       "    <tr>\n",
       "      <th>min</th>\n",
       "      <td>2.500000e+00</td>\n",
       "      <td>-7.498856e+01</td>\n",
       "      <td>4.005272e+01</td>\n",
       "      <td>-7.499828e+01</td>\n",
       "      <td>4.000565e+01</td>\n",
       "      <td>1.000000e+00</td>\n",
       "      <td>2.009000e+03</td>\n",
       "      <td>1.000000e+00</td>\n",
       "      <td>1.000000e+00</td>\n",
       "      <td>0.000000e+00</td>\n",
       "      <td>0.000000e+00</td>\n",
       "    </tr>\n",
       "    <tr>\n",
       "      <th>25%</th>\n",
       "      <td>6.000000e+00</td>\n",
       "      <td>-7.399228e+01</td>\n",
       "      <td>4.073654e+01</td>\n",
       "      <td>-7.399158e+01</td>\n",
       "      <td>4.073558e+01</td>\n",
       "      <td>1.000000e+00</td>\n",
       "      <td>2.010000e+03</td>\n",
       "      <td>3.000000e+00</td>\n",
       "      <td>8.000000e+00</td>\n",
       "      <td>1.000000e+00</td>\n",
       "      <td>9.000000e+00</td>\n",
       "    </tr>\n",
       "    <tr>\n",
       "      <th>50%</th>\n",
       "      <td>8.500000e+00</td>\n",
       "      <td>-7.398210e+01</td>\n",
       "      <td>4.075333e+01</td>\n",
       "      <td>-7.398061e+01</td>\n",
       "      <td>4.075386e+01</td>\n",
       "      <td>1.000000e+00</td>\n",
       "      <td>2.012000e+03</td>\n",
       "      <td>6.000000e+00</td>\n",
       "      <td>1.600000e+01</td>\n",
       "      <td>3.000000e+00</td>\n",
       "      <td>1.400000e+01</td>\n",
       "    </tr>\n",
       "    <tr>\n",
       "      <th>75%</th>\n",
       "      <td>1.250000e+01</td>\n",
       "      <td>-7.396834e+01</td>\n",
       "      <td>4.076753e+01</td>\n",
       "      <td>-7.396535e+01</td>\n",
       "      <td>4.076841e+01</td>\n",
       "      <td>2.000000e+00</td>\n",
       "      <td>2.013000e+03</td>\n",
       "      <td>9.000000e+00</td>\n",
       "      <td>2.300000e+01</td>\n",
       "      <td>5.000000e+00</td>\n",
       "      <td>1.900000e+01</td>\n",
       "    </tr>\n",
       "    <tr>\n",
       "      <th>max</th>\n",
       "      <td>5.000000e+02</td>\n",
       "      <td>-7.206320e+01</td>\n",
       "      <td>4.192279e+01</td>\n",
       "      <td>-7.219609e+01</td>\n",
       "      <td>4.199811e+01</td>\n",
       "      <td>5.000000e+00</td>\n",
       "      <td>2.015000e+03</td>\n",
       "      <td>1.200000e+01</td>\n",
       "      <td>3.100000e+01</td>\n",
       "      <td>6.000000e+00</td>\n",
       "      <td>2.300000e+01</td>\n",
       "    </tr>\n",
       "  </tbody>\n",
       "</table>\n",
       "</div>"
      ],
      "text/plain": [
       "        fare_amount  pickup_longitude  pickup_latitude  dropoff_longitude  \\\n",
       "count  3.819140e+06      3.819140e+06     3.819140e+06       3.819140e+06   \n",
       "mean   1.131700e+01     -7.397517e+01     4.075104e+01      -7.397431e+01   \n",
       "std    9.707807e+00      3.926750e-02     3.013788e-02       3.840141e-02   \n",
       "min    2.500000e+00     -7.498856e+01     4.005272e+01      -7.499828e+01   \n",
       "25%    6.000000e+00     -7.399228e+01     4.073654e+01      -7.399158e+01   \n",
       "50%    8.500000e+00     -7.398210e+01     4.075333e+01      -7.398061e+01   \n",
       "75%    1.250000e+01     -7.396834e+01     4.076753e+01      -7.396535e+01   \n",
       "max    5.000000e+02     -7.206320e+01     4.192279e+01      -7.219609e+01   \n",
       "\n",
       "       dropoff_latitude  passenger_count          Year         Month  \\\n",
       "count      3.819140e+06     3.819140e+06  3.819140e+06  3.819140e+06   \n",
       "mean       4.075141e+01     1.597039e+00  2.011711e+03  6.269253e+00   \n",
       "std        3.327719e-02     1.153872e+00  1.865753e+00  3.435507e+00   \n",
       "min        4.000565e+01     1.000000e+00  2.009000e+03  1.000000e+00   \n",
       "25%        4.073558e+01     1.000000e+00  2.010000e+03  3.000000e+00   \n",
       "50%        4.075386e+01     1.000000e+00  2.012000e+03  6.000000e+00   \n",
       "75%        4.076841e+01     2.000000e+00  2.013000e+03  9.000000e+00   \n",
       "max        4.199811e+01     5.000000e+00  2.015000e+03  1.200000e+01   \n",
       "\n",
       "               Date   Day of Week          Hour  \n",
       "count  3.819140e+06  3.819140e+06  3.819140e+06  \n",
       "mean   1.571454e+01  3.041087e+00  1.351524e+01  \n",
       "std    8.684408e+00  1.949681e+00  6.517610e+00  \n",
       "min    1.000000e+00  0.000000e+00  0.000000e+00  \n",
       "25%    8.000000e+00  1.000000e+00  9.000000e+00  \n",
       "50%    1.600000e+01  3.000000e+00  1.400000e+01  \n",
       "75%    2.300000e+01  5.000000e+00  1.900000e+01  \n",
       "max    3.100000e+01  6.000000e+00  2.300000e+01  "
      ]
     },
     "execution_count": 14,
     "metadata": {},
     "output_type": "execute_result"
    }
   ],
   "source": [
    "df.describe()"
   ]
  },
  {
   "cell_type": "code",
   "execution_count": 15,
   "metadata": {
    "execution": {
     "iopub.execute_input": "2020-12-05T21:24:05.231259Z",
     "iopub.status.busy": "2020-12-05T21:24:05.230493Z",
     "iopub.status.idle": "2020-12-05T21:24:05.490531Z",
     "shell.execute_reply": "2020-12-05T21:24:05.489691Z"
    },
    "papermill": {
     "duration": 0.304426,
     "end_time": "2020-12-05T21:24:05.490663",
     "exception": false,
     "start_time": "2020-12-05T21:24:05.186237",
     "status": "completed"
    },
    "tags": []
   },
   "outputs": [],
   "source": [
    "import geopy.distance\n",
    "\n",
    "def geodesic_dist(trip):\n",
    "    pickup_lat = trip['pickup_latitude']\n",
    "    pickup_long = trip['pickup_longitude']\n",
    "    dropoff_lat = trip['dropoff_latitude']\n",
    "    dropoff_long = trip['dropoff_longitude']\n",
    "    distance = geopy.distance.geodesic((pickup_lat, pickup_long), \n",
    "                                       (dropoff_lat, dropoff_long)).miles\n",
    "    try:\n",
    "        return distance\n",
    "    except ValueError:\n",
    "        return np.nan\n",
    "    \n",
    "def circle_dist(trip):\n",
    "    pickup_lat = trip['pickup_latitude']\n",
    "    pickup_long = trip['pickup_longitude']\n",
    "    dropoff_lat = trip['dropoff_latitude']\n",
    "    dropoff_long = trip['dropoff_longitude']\n",
    "    distance = geopy.distance.great_circle((pickup_lat, pickup_long), \n",
    "                                       (dropoff_lat, dropoff_long)).miles\n",
    "    try:\n",
    "        return distance\n",
    "    except ValueError:\n",
    "        return np.nan"
   ]
  },
  {
   "cell_type": "code",
   "execution_count": 16,
   "metadata": {
    "execution": {
     "iopub.execute_input": "2020-12-05T21:24:05.585905Z",
     "iopub.status.busy": "2020-12-05T21:24:05.584762Z",
     "iopub.status.idle": "2020-12-05T21:24:05.587736Z",
     "shell.execute_reply": "2020-12-05T21:24:05.588283Z"
    },
    "papermill": {
     "duration": 0.063972,
     "end_time": "2020-12-05T21:24:05.588484",
     "exception": false,
     "start_time": "2020-12-05T21:24:05.524512",
     "status": "completed"
    },
    "tags": []
   },
   "outputs": [],
   "source": [
    "def jfk_dist(trip):\n",
    "    jfk_lat = 40.6413\n",
    "    jfk_long = -73.7781\n",
    "    dropoff_lat = trip['dropoff_latitude']\n",
    "    dropoff_long = trip['dropoff_longitude']\n",
    "    jfk_distance = geopy.distance.geodesic((dropoff_lat, dropoff_long), (jfk_lat, jfk_long)).miles\n",
    "    return jfk_distance\n",
    "\n",
    "def lga_dist(trip):\n",
    "    lga_lat = 40.7769\n",
    "    lga_long = -73.8740\n",
    "    dropoff_lat = trip['dropoff_latitude']\n",
    "    dropoff_long = trip['dropoff_longitude']\n",
    "    lga_distance = geopy.distance.geodesic((dropoff_lat, dropoff_long), (lga_lat, lga_long)).miles\n",
    "    return lga_distance\n",
    "\n",
    "def ewr_dist(trip):\n",
    "    ewr_lat = 40.6895\n",
    "    ewr_long = -74.1745\n",
    "    dropoff_lat = trip['dropoff_latitude']\n",
    "    dropoff_long = trip['dropoff_longitude']\n",
    "    ewr_distance = geopy.distance.geodesic((dropoff_lat, dropoff_long), (ewr_lat, ewr_long)).miles\n",
    "    return ewr_distance\n",
    "\n",
    "def tsq_dist(trip):\n",
    "    tsq_lat = 40.7580\n",
    "    tsq_long = -73.9855\n",
    "    dropoff_lat = trip['dropoff_latitude']\n",
    "    dropoff_long = trip['dropoff_longitude']\n",
    "    tsq_distance = geopy.distance.geodesic((dropoff_lat, dropoff_long), (tsq_lat, tsq_long)).miles\n",
    "    return tsq_distance\n",
    "\n",
    "def cpk_dist(trip):\n",
    "    cpk_lat = 40.7812\n",
    "    cpk_long = -73.9665\n",
    "    dropoff_lat = trip['dropoff_latitude']\n",
    "    dropoff_long = trip['dropoff_longitude']\n",
    "    cpk_distance = geopy.distance.geodesic((dropoff_lat, dropoff_long), (cpk_lat, cpk_long)).miles\n",
    "    return cpk_distance\n",
    "\n",
    "def lib_dist(trip):\n",
    "    lib_lat = 40.6892\n",
    "    lib_long = -74.0445\n",
    "    dropoff_lat = trip['dropoff_latitude']\n",
    "    dropoff_long = trip['dropoff_longitude']\n",
    "    lib_distance = geopy.distance.geodesic((dropoff_lat, dropoff_long), (lib_lat, lib_long)).miles\n",
    "    return lib_distance\n",
    "\n",
    "def gct_dist(trip):\n",
    "    gct_lat = 40.7527\n",
    "    gct_long = -73.9772\n",
    "    dropoff_lat = trip['dropoff_latitude']\n",
    "    dropoff_long = trip['dropoff_longitude']\n",
    "    gct_distance = geopy.distance.geodesic((dropoff_lat, dropoff_long), (gct_lat, gct_long)).miles\n",
    "    return gct_distance\n",
    "\n",
    "def met_dist(trip):\n",
    "    met_lat = 40.7794\n",
    "    met_long = -73.9632\n",
    "    dropoff_lat = trip['dropoff_latitude']\n",
    "    dropoff_long = trip['dropoff_longitude']\n",
    "    met_distance = geopy.distance.geodesic((dropoff_lat, dropoff_long), (met_lat, met_long)).miles\n",
    "    return met_distance\n",
    "\n",
    "def wtc_dist(trip):\n",
    "    wtc_lat = 40.7126\n",
    "    wtc_long = -74.0099\n",
    "    dropoff_lat = trip['dropoff_latitude']\n",
    "    dropoff_long = trip['dropoff_longitude']\n",
    "    wtc_distance = geopy.distance.geodesic((dropoff_lat, dropoff_long), (wtc_lat, wtc_long)).miles\n",
    "    return wtc_distance"
   ]
  },
  {
   "cell_type": "code",
   "execution_count": 17,
   "metadata": {
    "execution": {
     "iopub.execute_input": "2020-12-05T21:24:05.666003Z",
     "iopub.status.busy": "2020-12-05T21:24:05.665184Z",
     "iopub.status.idle": "2020-12-05T21:24:05.668635Z",
     "shell.execute_reply": "2020-12-05T21:24:05.667969Z"
    },
    "papermill": {
     "duration": 0.046252,
     "end_time": "2020-12-05T21:24:05.668770",
     "exception": false,
     "start_time": "2020-12-05T21:24:05.622518",
     "status": "completed"
    },
    "tags": []
   },
   "outputs": [],
   "source": [
    "def optimize_floats(df):\n",
    "    floats = df.select_dtypes(include=['float64']).columns.tolist()\n",
    "    df[floats] = df[floats].apply(pd.to_numeric, downcast='float')\n",
    "    return df\n",
    "\n",
    "\n",
    "def optimize_ints(df):\n",
    "    ints = df.select_dtypes(include=['int64']).columns.tolist()\n",
    "    df[ints] = df[ints].apply(pd.to_numeric, downcast='integer')\n",
    "    return df\n",
    "\n",
    "def optimize(df):\n",
    "    return optimize_floats(optimize_ints(df))"
   ]
  },
  {
   "cell_type": "code",
   "execution_count": 18,
   "metadata": {
    "execution": {
     "iopub.execute_input": "2020-12-05T21:24:05.867976Z",
     "iopub.status.busy": "2020-12-05T21:24:05.867213Z",
     "iopub.status.idle": "2020-12-05T21:24:06.689460Z",
     "shell.execute_reply": "2020-12-05T21:24:06.688679Z"
    },
    "papermill": {
     "duration": 0.986928,
     "end_time": "2020-12-05T21:24:06.689588",
     "exception": false,
     "start_time": "2020-12-05T21:24:05.702660",
     "status": "completed"
    },
    "tags": []
   },
   "outputs": [],
   "source": [
    "df = optimize(df)\n",
    "test_df = optimize(test_df)"
   ]
  },
  {
   "cell_type": "code",
   "execution_count": 19,
   "metadata": {
    "execution": {
     "iopub.execute_input": "2020-12-05T21:24:06.772988Z",
     "iopub.status.busy": "2020-12-05T21:24:06.772041Z",
     "iopub.status.idle": "2020-12-05T21:24:06.775186Z",
     "shell.execute_reply": "2020-12-05T21:24:06.774459Z"
    },
    "papermill": {
     "duration": 0.051555,
     "end_time": "2020-12-05T21:24:06.775311",
     "exception": false,
     "start_time": "2020-12-05T21:24:06.723756",
     "status": "completed"
    },
    "tags": []
   },
   "outputs": [],
   "source": [
    "def calc_dists(df):\n",
    "    df['geodesic'] = df.apply(lambda x: geodesic_dist(x), axis = 1 )\n",
    "    df['circle'] = df.apply(lambda x: circle_dist(x), axis = 1 )\n",
    "    df['jfk'] = df.apply(lambda x: jfk_dist(x), axis = 1 )\n",
    "    df['lga'] = df.apply(lambda x: lga_dist(x), axis = 1 )\n",
    "    df['ewr'] = df.apply(lambda x: ewr_dist(x), axis = 1 )\n",
    "    df['tsq'] = df.apply(lambda x: tsq_dist(x), axis = 1 )\n",
    "    df['cpk'] = df.apply(lambda x: cpk_dist(x), axis = 1 )\n",
    "    df['lib'] = df.apply(lambda x: lib_dist(x), axis = 1 )\n",
    "    df['gct'] = df.apply(lambda x: gct_dist(x), axis = 1 )\n",
    "    df['met'] = df.apply(lambda x: met_dist(x), axis = 1 )\n",
    "    df['wtc'] = df.apply(lambda x: wtc_dist(x), axis = 1 )\n",
    "    return df"
   ]
  },
  {
   "cell_type": "code",
   "execution_count": 20,
   "metadata": {
    "execution": {
     "iopub.execute_input": "2020-12-05T21:24:06.852158Z",
     "iopub.status.busy": "2020-12-05T21:24:06.850610Z",
     "iopub.status.idle": "2020-12-06T01:27:00.418880Z",
     "shell.execute_reply": "2020-12-06T01:27:00.418218Z"
    },
    "papermill": {
     "duration": 14573.608646,
     "end_time": "2020-12-06T01:27:00.419028",
     "exception": false,
     "start_time": "2020-12-05T21:24:06.810382",
     "status": "completed"
    },
    "tags": []
   },
   "outputs": [],
   "source": [
    "df = calc_dists(df)\n",
    "test_df = calc_dists(test_df)"
   ]
  },
  {
   "cell_type": "code",
   "execution_count": 21,
   "metadata": {
    "execution": {
     "iopub.execute_input": "2020-12-06T01:27:00.493452Z",
     "iopub.status.busy": "2020-12-06T01:27:00.492676Z",
     "iopub.status.idle": "2020-12-06T01:27:00.495728Z",
     "shell.execute_reply": "2020-12-06T01:27:00.495002Z"
    },
    "papermill": {
     "duration": 0.041542,
     "end_time": "2020-12-06T01:27:00.495855",
     "exception": false,
     "start_time": "2020-12-06T01:27:00.454313",
     "status": "completed"
    },
    "tags": []
   },
   "outputs": [],
   "source": [
    "# df.drop(['pickup_longitude','pickup_latitude','dropoff_longitude','dropoff_latitude'],axis=1,inplace=True)\n",
    "# test_df.drop(['pickup_longitude','pickup_latitude','dropoff_longitude','dropoff_latitude'],axis=1,inplace=True)"
   ]
  },
  {
   "cell_type": "code",
   "execution_count": 22,
   "metadata": {
    "execution": {
     "iopub.execute_input": "2020-12-06T01:27:00.573591Z",
     "iopub.status.busy": "2020-12-06T01:27:00.572819Z",
     "iopub.status.idle": "2020-12-06T01:27:05.871647Z",
     "shell.execute_reply": "2020-12-06T01:27:05.872373Z"
    },
    "papermill": {
     "duration": 5.341598,
     "end_time": "2020-12-06T01:27:05.872552",
     "exception": false,
     "start_time": "2020-12-06T01:27:00.530954",
     "status": "completed"
    },
    "tags": []
   },
   "outputs": [
    {
     "data": {
      "image/png": "[encoded data removed]",
      "text/plain": [
       "<Figure size 720x576 with 2 Axes>"
      ]
     },
     "metadata": {
      "needs_background": "light"
     },
     "output_type": "display_data"
    }
   ],
   "source": [
    "plt.figure(figsize=(10, 8))\n",
    "sns.heatmap(df.drop('fare_amount', axis=1).corr(), square=True)\n",
    "plt.suptitle('Pearson Correlation Heatmap')\n",
    "plt.show();"
   ]
  },
  {
   "cell_type": "code",
   "execution_count": 23,
   "metadata": {
    "execution": {
     "iopub.execute_input": "2020-12-06T01:27:05.960378Z",
     "iopub.status.busy": "2020-12-06T01:27:05.959562Z",
     "iopub.status.idle": "2020-12-06T01:27:16.941413Z",
     "shell.execute_reply": "2020-12-06T01:27:16.940672Z"
    },
    "papermill": {
     "duration": 11.027235,
     "end_time": "2020-12-06T01:27:16.941539",
     "exception": false,
     "start_time": "2020-12-06T01:27:05.914304",
     "status": "completed"
    },
    "tags": []
   },
   "outputs": [
    {
     "data": {
      "image/png": "[encoded data removed]",
      "text/plain": [
       "<Figure size 1368x360 with 2 Axes>"
      ]
     },
     "metadata": {
      "needs_background": "light"
     },
     "output_type": "display_data"
    }
   ],
   "source": [
    "(mu, sigma) = norm.fit(df['geodesic'])\n",
    "f, (ax1, ax2) = plt.subplots(1, 2, figsize=(19, 5))\n",
    "ax1 = sns.distplot(df['geodesic'] , fit=norm, ax=ax1)\n",
    "ax1.legend([f'Normal distribution ($\\mu=$ {mu:.3f} and $\\sigma=$ {sigma:.3f})'], loc='best')\n",
    "ax1.set_ylabel('Frequency')\n",
    "ax1.set_title('Distance Distribution')\n",
    "ax2 = stats.probplot(df['geodesic'], plot=plt)\n",
    "f.show();"
   ]
  },
  {
   "cell_type": "code",
   "execution_count": 24,
   "metadata": {
    "execution": {
     "iopub.execute_input": "2020-12-06T01:27:17.034029Z",
     "iopub.status.busy": "2020-12-06T01:27:17.032785Z",
     "iopub.status.idle": "2020-12-06T01:27:26.663398Z",
     "shell.execute_reply": "2020-12-06T01:27:26.662741Z"
    },
    "papermill": {
     "duration": 9.684636,
     "end_time": "2020-12-06T01:27:26.663529",
     "exception": false,
     "start_time": "2020-12-06T01:27:16.978893",
     "status": "completed"
    },
    "tags": []
   },
   "outputs": [
    {
     "data": {
      "image/png": "[encoded data removed]",
      "text/plain": [
       "<Figure size 1368x360 with 2 Axes>"
      ]
     },
     "metadata": {
      "needs_background": "light"
     },
     "output_type": "display_data"
    }
   ],
   "source": [
    "(mu, sigma) = norm.fit(df['fare_amount'])\n",
    "f, (ax1, ax2) = plt.subplots(1, 2, figsize=(19, 5))\n",
    "ax1 = sns.distplot(df['fare_amount'] , fit=norm, ax=ax1)\n",
    "ax1.legend([f'Normal distribution ($\\mu=$ {mu:.3f} and $\\sigma=$ {sigma:.3f})'], loc='best')\n",
    "ax1.set_ylabel('Frequency')\n",
    "ax1.set_title('Fare Distribution')\n",
    "ax2 = stats.probplot(df['fare_amount'], plot=plt)\n",
    "f.show();"
   ]
  },
  {
   "cell_type": "code",
   "execution_count": 25,
   "metadata": {
    "execution": {
     "iopub.execute_input": "2020-12-06T01:27:26.930808Z",
     "iopub.status.busy": "2020-12-06T01:27:26.930052Z",
     "iopub.status.idle": "2020-12-06T01:27:29.679651Z",
     "shell.execute_reply": "2020-12-06T01:27:29.680328Z"
    },
    "papermill": {
     "duration": 2.977763,
     "end_time": "2020-12-06T01:27:29.680498",
     "exception": false,
     "start_time": "2020-12-06T01:27:26.702735",
     "status": "completed"
    },
    "tags": []
   },
   "outputs": [
    {
     "data": {
      "text/html": [
       "<div>\n",
       "<style scoped>\n",
       "    .dataframe tbody tr th:only-of-type {\n",
       "        vertical-align: middle;\n",
       "    }\n",
       "\n",
       "    .dataframe tbody tr th {\n",
       "        vertical-align: top;\n",
       "    }\n",
       "\n",
       "    .dataframe thead th {\n",
       "        text-align: right;\n",
       "    }\n",
       "</style>\n",
       "<table border=\"1\" class=\"dataframe\">\n",
       "  <thead>\n",
       "    <tr style=\"text-align: right;\">\n",
       "      <th></th>\n",
       "      <th>fare_amount</th>\n",
       "      <th>pickup_longitude</th>\n",
       "      <th>pickup_latitude</th>\n",
       "      <th>dropoff_longitude</th>\n",
       "      <th>dropoff_latitude</th>\n",
       "      <th>passenger_count</th>\n",
       "      <th>Year</th>\n",
       "      <th>Month</th>\n",
       "      <th>Date</th>\n",
       "      <th>Day of Week</th>\n",
       "      <th>...</th>\n",
       "      <th>circle</th>\n",
       "      <th>jfk</th>\n",
       "      <th>lga</th>\n",
       "      <th>ewr</th>\n",
       "      <th>tsq</th>\n",
       "      <th>cpk</th>\n",
       "      <th>lib</th>\n",
       "      <th>gct</th>\n",
       "      <th>met</th>\n",
       "      <th>wtc</th>\n",
       "    </tr>\n",
       "  </thead>\n",
       "  <tbody>\n",
       "    <tr>\n",
       "      <th>count</th>\n",
       "      <td>3.819140e+06</td>\n",
       "      <td>3.819140e+06</td>\n",
       "      <td>3.819140e+06</td>\n",
       "      <td>3.819140e+06</td>\n",
       "      <td>3.819140e+06</td>\n",
       "      <td>3.819140e+06</td>\n",
       "      <td>3.819140e+06</td>\n",
       "      <td>3.819140e+06</td>\n",
       "      <td>3.819140e+06</td>\n",
       "      <td>3.819140e+06</td>\n",
       "      <td>...</td>\n",
       "      <td>3.819140e+06</td>\n",
       "      <td>3.819140e+06</td>\n",
       "      <td>3.819140e+06</td>\n",
       "      <td>3.819140e+06</td>\n",
       "      <td>3.819140e+06</td>\n",
       "      <td>3.819140e+06</td>\n",
       "      <td>3.819140e+06</td>\n",
       "      <td>3.819140e+06</td>\n",
       "      <td>3.819140e+06</td>\n",
       "      <td>3.819140e+06</td>\n",
       "    </tr>\n",
       "    <tr>\n",
       "      <th>mean</th>\n",
       "      <td>1.129207e+01</td>\n",
       "      <td>-7.520219e+01</td>\n",
       "      <td>4.108521e+01</td>\n",
       "      <td>-7.520161e+01</td>\n",
       "      <td>4.108532e+01</td>\n",
       "      <td>1.597039e+00</td>\n",
       "      <td>2.011711e+03</td>\n",
       "      <td>6.269253e+00</td>\n",
       "      <td>1.571454e+01</td>\n",
       "      <td>3.041087e+00</td>\n",
       "      <td>...</td>\n",
       "      <td>2.069692e+00</td>\n",
       "      <td>1.301866e+01</td>\n",
       "      <td>6.034975e+00</td>\n",
       "      <td>1.151230e+01</td>\n",
       "      <td>2.096468e+00</td>\n",
       "      <td>2.833279e+00</td>\n",
       "      <td>5.934221e+00</td>\n",
       "      <td>2.044739e+00</td>\n",
       "      <td>2.789679e+00</td>\n",
       "      <td>3.711286e+00</td>\n",
       "    </tr>\n",
       "    <tr>\n",
       "      <th>std</th>\n",
       "      <td>9.665290e+00</td>\n",
       "      <td>1.230669e+00</td>\n",
       "      <td>3.350019e-01</td>\n",
       "      <td>1.230150e+00</td>\n",
       "      <td>3.351491e-01</td>\n",
       "      <td>1.153872e+00</td>\n",
       "      <td>1.865753e+00</td>\n",
       "      <td>3.435507e+00</td>\n",
       "      <td>8.684408e+00</td>\n",
       "      <td>1.949681e+00</td>\n",
       "      <td>...</td>\n",
       "      <td>2.362633e+00</td>\n",
       "      <td>1.942548e+00</td>\n",
       "      <td>1.923529e+00</td>\n",
       "      <td>2.346052e+00</td>\n",
       "      <td>2.342100e+00</td>\n",
       "      <td>2.386035e+00</td>\n",
       "      <td>2.474841e+00</td>\n",
       "      <td>2.275921e+00</td>\n",
       "      <td>2.369653e+00</td>\n",
       "      <td>2.494160e+00</td>\n",
       "    </tr>\n",
       "    <tr>\n",
       "      <th>min</th>\n",
       "      <td>2.500000e+00</td>\n",
       "      <td>-7.498856e+01</td>\n",
       "      <td>4.005272e+01</td>\n",
       "      <td>-7.499828e+01</td>\n",
       "      <td>4.000565e+01</td>\n",
       "      <td>1.000000e+00</td>\n",
       "      <td>2.009000e+03</td>\n",
       "      <td>1.000000e+00</td>\n",
       "      <td>1.000000e+00</td>\n",
       "      <td>0.000000e+00</td>\n",
       "      <td>...</td>\n",
       "      <td>0.000000e+00</td>\n",
       "      <td>9.170678e-02</td>\n",
       "      <td>2.093038e-02</td>\n",
       "      <td>8.390058e-02</td>\n",
       "      <td>1.868764e-04</td>\n",
       "      <td>5.107778e-03</td>\n",
       "      <td>3.057588e-02</td>\n",
       "      <td>9.992924e-04</td>\n",
       "      <td>1.141136e-02</td>\n",
       "      <td>3.259047e-04</td>\n",
       "    </tr>\n",
       "    <tr>\n",
       "      <th>25%</th>\n",
       "      <td>6.000000e+00</td>\n",
       "      <td>-7.399229e+01</td>\n",
       "      <td>4.073654e+01</td>\n",
       "      <td>-7.399158e+01</td>\n",
       "      <td>4.073558e+01</td>\n",
       "      <td>1.000000e+00</td>\n",
       "      <td>2.010000e+03</td>\n",
       "      <td>3.000000e+00</td>\n",
       "      <td>8.000000e+00</td>\n",
       "      <td>1.000000e+00</td>\n",
       "      <td>...</td>\n",
       "      <td>7.790659e-01</td>\n",
       "      <td>1.277589e+01</td>\n",
       "      <td>5.182857e+00</td>\n",
       "      <td>1.026702e+01</td>\n",
       "      <td>7.960473e-01</td>\n",
       "      <td>1.344041e+00</td>\n",
       "      <td>4.453294e+00</td>\n",
       "      <td>8.088846e-01</td>\n",
       "      <td>1.327663e+00</td>\n",
       "      <td>2.228818e+00</td>\n",
       "    </tr>\n",
       "    <tr>\n",
       "      <th>50%</th>\n",
       "      <td>8.500000e+00</td>\n",
       "      <td>-7.398210e+01</td>\n",
       "      <td>4.075333e+01</td>\n",
       "      <td>-7.398061e+01</td>\n",
       "      <td>4.075386e+01</td>\n",
       "      <td>1.000000e+00</td>\n",
       "      <td>2.012000e+03</td>\n",
       "      <td>6.000000e+00</td>\n",
       "      <td>1.600000e+01</td>\n",
       "      <td>3.000000e+00</td>\n",
       "      <td>...</td>\n",
       "      <td>1.337694e+00</td>\n",
       "      <td>1.318248e+01</td>\n",
       "      <td>5.931283e+00</td>\n",
       "      <td>1.119014e+01</td>\n",
       "      <td>1.557709e+00</td>\n",
       "      <td>2.342500e+00</td>\n",
       "      <td>5.673740e+00</td>\n",
       "      <td>1.542998e+00</td>\n",
       "      <td>2.305912e+00</td>\n",
       "      <td>3.416293e+00</td>\n",
       "    </tr>\n",
       "    <tr>\n",
       "      <th>75%</th>\n",
       "      <td>1.250000e+01</td>\n",
       "      <td>-7.396834e+01</td>\n",
       "      <td>4.076753e+01</td>\n",
       "      <td>-7.396535e+01</td>\n",
       "      <td>4.076841e+01</td>\n",
       "      <td>2.000000e+00</td>\n",
       "      <td>2.013000e+03</td>\n",
       "      <td>9.000000e+00</td>\n",
       "      <td>2.300000e+01</td>\n",
       "      <td>5.000000e+00</td>\n",
       "      <td>...</td>\n",
       "      <td>2.430095e+00</td>\n",
       "      <td>1.363314e+01</td>\n",
       "      <td>6.843476e+00</td>\n",
       "      <td>1.232593e+01</td>\n",
       "      <td>2.504123e+00</td>\n",
       "      <td>3.708910e+00</td>\n",
       "      <td>7.029416e+00</td>\n",
       "      <td>2.429821e+00</td>\n",
       "      <td>3.662613e+00</td>\n",
       "      <td>4.752931e+00</td>\n",
       "    </tr>\n",
       "    <tr>\n",
       "      <th>max</th>\n",
       "      <td>5.000000e+02</td>\n",
       "      <td>-7.206320e+01</td>\n",
       "      <td>4.192279e+01</td>\n",
       "      <td>-7.219609e+01</td>\n",
       "      <td>4.199811e+01</td>\n",
       "      <td>5.000000e+00</td>\n",
       "      <td>2.015000e+03</td>\n",
       "      <td>1.200000e+01</td>\n",
       "      <td>3.100000e+01</td>\n",
       "      <td>6.000000e+00</td>\n",
       "      <td>...</td>\n",
       "      <td>1.004673e+02</td>\n",
       "      <td>9.932194e+01</td>\n",
       "      <td>9.373068e+01</td>\n",
       "      <td>1.099278e+02</td>\n",
       "      <td>9.898974e+01</td>\n",
       "      <td>9.731025e+01</td>\n",
       "      <td>1.041320e+02</td>\n",
       "      <td>9.880900e+01</td>\n",
       "      <td>9.722530e+01</td>\n",
       "      <td>1.017316e+02</td>\n",
       "    </tr>\n",
       "  </tbody>\n",
       "</table>\n",
       "<p>8 rows × 22 columns</p>\n",
       "</div>"
      ],
      "text/plain": [
       "        fare_amount  pickup_longitude  pickup_latitude  dropoff_longitude  \\\n",
       "count  3.819140e+06      3.819140e+06     3.819140e+06       3.819140e+06   \n",
       "mean   1.129207e+01     -7.520219e+01     4.108521e+01      -7.520161e+01   \n",
       "std    9.665290e+00      1.230669e+00     3.350019e-01       1.230150e+00   \n",
       "min    2.500000e+00     -7.498856e+01     4.005272e+01      -7.499828e+01   \n",
       "25%    6.000000e+00     -7.399229e+01     4.073654e+01      -7.399158e+01   \n",
       "50%    8.500000e+00     -7.398210e+01     4.075333e+01      -7.398061e+01   \n",
       "75%    1.250000e+01     -7.396834e+01     4.076753e+01      -7.396535e+01   \n",
       "max    5.000000e+02     -7.206320e+01     4.192279e+01      -7.219609e+01   \n",
       "\n",
       "       dropoff_latitude  passenger_count          Year         Month  \\\n",
       "count      3.819140e+06     3.819140e+06  3.819140e+06  3.819140e+06   \n",
       "mean       4.108532e+01     1.597039e+00  2.011711e+03  6.269253e+00   \n",
       "std        3.351491e-01     1.153872e+00  1.865753e+00  3.435507e+00   \n",
       "min        4.000565e+01     1.000000e+00  2.009000e+03  1.000000e+00   \n",
       "25%        4.073558e+01     1.000000e+00  2.010000e+03  3.000000e+00   \n",
       "50%        4.075386e+01     1.000000e+00  2.012000e+03  6.000000e+00   \n",
       "75%        4.076841e+01     2.000000e+00  2.013000e+03  9.000000e+00   \n",
       "max        4.199811e+01     5.000000e+00  2.015000e+03  1.200000e+01   \n",
       "\n",
       "               Date   Day of Week  ...        circle           jfk  \\\n",
       "count  3.819140e+06  3.819140e+06  ...  3.819140e+06  3.819140e+06   \n",
       "mean   1.571454e+01  3.041087e+00  ...  2.069692e+00  1.301866e+01   \n",
       "std    8.684408e+00  1.949681e+00  ...  2.362633e+00  1.942548e+00   \n",
       "min    1.000000e+00  0.000000e+00  ...  0.000000e+00  9.170678e-02   \n",
       "25%    8.000000e+00  1.000000e+00  ...  7.790659e-01  1.277589e+01   \n",
       "50%    1.600000e+01  3.000000e+00  ...  1.337694e+00  1.318248e+01   \n",
       "75%    2.300000e+01  5.000000e+00  ...  2.430095e+00  1.363314e+01   \n",
       "max    3.100000e+01  6.000000e+00  ...  1.004673e+02  9.932194e+01   \n",
       "\n",
       "                lga           ewr           tsq           cpk           lib  \\\n",
       "count  3.819140e+06  3.819140e+06  3.819140e+06  3.819140e+06  3.819140e+06   \n",
       "mean   6.034975e+00  1.151230e+01  2.096468e+00  2.833279e+00  5.934221e+00   \n",
       "std    1.923529e+00  2.346052e+00  2.342100e+00  2.386035e+00  2.474841e+00   \n",
       "min    2.093038e-02  8.390058e-02  1.868764e-04  5.107778e-03  3.057588e-02   \n",
       "25%    5.182857e+00  1.026702e+01  7.960473e-01  1.344041e+00  4.453294e+00   \n",
       "50%    5.931283e+00  1.119014e+01  1.557709e+00  2.342500e+00  5.673740e+00   \n",
       "75%    6.843476e+00  1.232593e+01  2.504123e+00  3.708910e+00  7.029416e+00   \n",
       "max    9.373068e+01  1.099278e+02  9.898974e+01  9.731025e+01  1.041320e+02   \n",
       "\n",
       "                gct           met           wtc  \n",
       "count  3.819140e+06  3.819140e+06  3.819140e+06  \n",
       "mean   2.044739e+00  2.789679e+00  3.711286e+00  \n",
       "std    2.275921e+00  2.369653e+00  2.494160e+00  \n",
       "min    9.992924e-04  1.141136e-02  3.259047e-04  \n",
       "25%    8.088846e-01  1.327663e+00  2.228818e+00  \n",
       "50%    1.542998e+00  2.305912e+00  3.416293e+00  \n",
       "75%    2.429821e+00  3.662613e+00  4.752931e+00  \n",
       "max    9.880900e+01  9.722530e+01  1.017316e+02  \n",
       "\n",
       "[8 rows x 22 columns]"
      ]
     },
     "execution_count": 25,
     "metadata": {},
     "output_type": "execute_result"
    }
   ],
   "source": [
    "df.describe()"
   ]
  },
  {
   "cell_type": "code",
   "execution_count": 26,
   "metadata": {
    "execution": {
     "iopub.execute_input": "2020-12-06T01:27:30.002893Z",
     "iopub.status.busy": "2020-12-06T01:27:30.002058Z",
     "iopub.status.idle": "2020-12-06T01:27:30.769871Z",
     "shell.execute_reply": "2020-12-06T01:27:30.769133Z"
    },
    "papermill": {
     "duration": 1.048161,
     "end_time": "2020-12-06T01:27:30.769996",
     "exception": false,
     "start_time": "2020-12-06T01:27:29.721835",
     "status": "completed"
    },
    "tags": []
   },
   "outputs": [],
   "source": [
    "df = optimize(df)\n",
    "test_df = optimize(test_df)"
   ]
  },
  {
   "cell_type": "code",
   "execution_count": 27,
   "metadata": {
    "execution": {
     "iopub.execute_input": "2020-12-06T01:27:30.858942Z",
     "iopub.status.busy": "2020-12-06T01:27:30.857848Z",
     "iopub.status.idle": "2020-12-06T01:27:30.862345Z",
     "shell.execute_reply": "2020-12-06T01:27:30.861604Z"
    },
    "papermill": {
     "duration": 0.052067,
     "end_time": "2020-12-06T01:27:30.862472",
     "exception": false,
     "start_time": "2020-12-06T01:27:30.810405",
     "status": "completed"
    },
    "tags": []
   },
   "outputs": [
    {
     "data": {
      "text/plain": [
       "fare_amount          float32\n",
       "pickup_longitude     float32\n",
       "pickup_latitude      float32\n",
       "dropoff_longitude    float32\n",
       "dropoff_latitude     float32\n",
       "passenger_count         int8\n",
       "Year                   int16\n",
       "Month                   int8\n",
       "Date                    int8\n",
       "Day of Week             int8\n",
       "Hour                    int8\n",
       "geodesic             float32\n",
       "circle               float32\n",
       "jfk                  float32\n",
       "lga                  float32\n",
       "ewr                  float32\n",
       "tsq                  float32\n",
       "cpk                  float32\n",
       "lib                  float32\n",
       "gct                  float32\n",
       "met                  float32\n",
       "wtc                  float32\n",
       "dtype: object"
      ]
     },
     "execution_count": 27,
     "metadata": {},
     "output_type": "execute_result"
    }
   ],
   "source": [
    "df.dtypes"
   ]
  },
  {
   "cell_type": "code",
   "execution_count": 28,
   "metadata": {
    "execution": {
     "iopub.execute_input": "2020-12-06T01:27:30.953382Z",
     "iopub.status.busy": "2020-12-06T01:27:30.951733Z",
     "iopub.status.idle": "2020-12-06T01:27:32.350864Z",
     "shell.execute_reply": "2020-12-06T01:27:32.350231Z"
    },
    "papermill": {
     "duration": 1.447538,
     "end_time": "2020-12-06T01:27:32.350988",
     "exception": false,
     "start_time": "2020-12-06T01:27:30.903450",
     "status": "completed"
    },
    "tags": []
   },
   "outputs": [],
   "source": [
    "X, y = df.drop('fare_amount', axis = 1), df['fare_amount']\n",
    "X_train, X_test, y_train, y_test = train_test_split(X, y, test_size=0.2, random_state=12)"
   ]
  },
  {
   "cell_type": "code",
   "execution_count": 29,
   "metadata": {
    "execution": {
     "iopub.execute_input": "2020-12-06T01:27:32.444350Z",
     "iopub.status.busy": "2020-12-06T01:27:32.443586Z",
     "iopub.status.idle": "2020-12-06T05:50:22.491839Z",
     "shell.execute_reply": "2020-12-06T05:50:22.492466Z"
    },
    "papermill": {
     "duration": 15770.099942,
     "end_time": "2020-12-06T05:50:22.492659",
     "exception": false,
     "start_time": "2020-12-06T01:27:32.392717",
     "status": "completed"
    },
    "tags": []
   },
   "outputs": [
    {
     "name": "stdout",
     "output_type": "stream",
     "text": [
      "[01:27:37] WARNING: ../src/learner.cc:516: \n",
      "Parameters: { n_estimators, silent } might not be used.\n",
      "\n",
      "  This may not be accurate due to some parameters are only used in language bindings but\n",
      "  passed down to XGBoost core.  Or some parameters are not used but slip through this\n",
      "  verification. Please open an issue if you find above cases.\n",
      "\n",
      "\n",
      "[0]\ttrain-rmse:13.85512\tvalid-rmse:13.89019\n",
      "Multiple eval metrics have been passed: 'valid-rmse' will be used for early stopping.\n",
      "\n",
      "Will train until valid-rmse hasn't improved in 100 rounds.\n",
      "[50]\ttrain-rmse:3.72130\tvalid-rmse:3.98436\n",
      "[100]\ttrain-rmse:3.37523\tvalid-rmse:3.74711\n",
      "[150]\ttrain-rmse:3.24241\tvalid-rmse:3.70129\n",
      "[200]\ttrain-rmse:3.15691\tvalid-rmse:3.67160\n",
      "[250]\ttrain-rmse:3.08760\tvalid-rmse:3.65041\n",
      "[300]\ttrain-rmse:3.04699\tvalid-rmse:3.64503\n",
      "[350]\ttrain-rmse:3.00831\tvalid-rmse:3.63765\n",
      "[400]\ttrain-rmse:2.98340\tvalid-rmse:3.63514\n",
      "[450]\ttrain-rmse:2.95348\tvalid-rmse:3.63062\n",
      "[500]\ttrain-rmse:2.92634\tvalid-rmse:3.62672\n",
      "[550]\ttrain-rmse:2.89874\tvalid-rmse:3.62257\n",
      "[600]\ttrain-rmse:2.87778\tvalid-rmse:3.62132\n",
      "[650]\ttrain-rmse:2.85748\tvalid-rmse:3.61973\n",
      "[699]\ttrain-rmse:2.83933\tvalid-rmse:3.61784\n"
     ]
    }
   ],
   "source": [
    "dtrain = xgb.DMatrix(X_train, label=y_train)\n",
    "dvalid = xgb.DMatrix(X_test, label=y_test)\n",
    "dtest = xgb.DMatrix(test_df)\n",
    "watchlist = [(dtrain, 'train'), (dvalid, 'valid')]\n",
    "\n",
    "xgb_params = {\n",
    "    'min_child_weight': 1, \n",
    "    'learning_rate': 0.05, \n",
    "    'colsample_bytree': 0.7, \n",
    "    'max_depth': 10,\n",
    "    'subsample': 0.7,\n",
    "    'n_estimators': 5000,\n",
    "    'n_jobs': -1, \n",
    "    'booster' : 'gbtree', \n",
    "    'silent': 1,\n",
    "    'eval_metric': 'rmse'}\n",
    "\n",
    "model = xgb.train(xgb_params, dtrain, 700, watchlist, early_stopping_rounds=100, maximize=False, verbose_eval=50)"
   ]
  },
  {
   "cell_type": "code",
   "execution_count": 30,
   "metadata": {
    "execution": {
     "iopub.execute_input": "2020-12-06T05:50:22.604824Z",
     "iopub.status.busy": "2020-12-06T05:50:22.602877Z",
     "iopub.status.idle": "2020-12-06T05:59:13.564856Z",
     "shell.execute_reply": "2020-12-06T05:59:13.565526Z"
    },
    "papermill": {
     "duration": 531.022374,
     "end_time": "2020-12-06T05:59:13.565707",
     "exception": false,
     "start_time": "2020-12-06T05:50:22.543333",
     "status": "completed"
    },
    "tags": []
   },
   "outputs": [
    {
     "name": "stdout",
     "output_type": "stream",
     "text": [
      "Train r2 score:  0.9023023021906735\n",
      "Test r2 score:  0.8621333314361251\n",
      "Train RMSE: 2.8476\n",
      "Test RMSE: 3.6197\n"
     ]
    }
   ],
   "source": [
    "y_train_pred = model.predict(dtrain)\n",
    "y_pred = model.predict(dvalid)\n",
    "print('Train r2 score: ', r2_score(y_train_pred, y_train))\n",
    "print('Test r2 score: ', r2_score(y_test, y_pred))\n",
    "train_rmse = np.sqrt(mean_squared_error(y_train_pred, y_train))\n",
    "test_rmse = np.sqrt(mean_squared_error(y_test, y_pred))\n",
    "print(f'Train RMSE: {train_rmse:.4f}')\n",
    "print(f'Test RMSE: {test_rmse:.4f}')"
   ]
  },
  {
   "cell_type": "code",
   "execution_count": 31,
   "metadata": {
    "execution": {
     "iopub.execute_input": "2020-12-06T05:59:13.671619Z",
     "iopub.status.busy": "2020-12-06T05:59:13.670559Z",
     "iopub.status.idle": "2020-12-06T05:59:15.036709Z",
     "shell.execute_reply": "2020-12-06T05:59:15.035935Z"
    },
    "papermill": {
     "duration": 1.421211,
     "end_time": "2020-12-06T05:59:15.036852",
     "exception": false,
     "start_time": "2020-12-06T05:59:13.615641",
     "status": "completed"
    },
    "tags": []
   },
   "outputs": [],
   "source": [
    "test_preds = model.predict(dtest)"
   ]
  },
  {
   "cell_type": "code",
   "execution_count": 32,
   "metadata": {
    "execution": {
     "iopub.execute_input": "2020-12-06T05:59:15.144910Z",
     "iopub.status.busy": "2020-12-06T05:59:15.144166Z",
     "iopub.status.idle": "2020-12-06T05:59:15.348593Z",
     "shell.execute_reply": "2020-12-06T05:59:15.347931Z"
    },
    "papermill": {
     "duration": 0.261836,
     "end_time": "2020-12-06T05:59:15.348737",
     "exception": false,
     "start_time": "2020-12-06T05:59:15.086901",
     "status": "completed"
    },
    "tags": []
   },
   "outputs": [],
   "source": [
    "test_preds = model.predict(dtest)\n",
    "\n",
    "submission = pd.DataFrame(\n",
    "    {'key': key, 'fare_amount': test_preds},\n",
    "    columns = ['key', 'fare_amount'])\n",
    "submission.to_csv('submission1.csv', index = False)"
   ]
  },
  {
   "cell_type": "code",
   "execution_count": null,
   "metadata": {
    "papermill": {
     "duration": 0.149137,
     "end_time": "2020-12-06T05:59:15.548649",
     "exception": false,
     "start_time": "2020-12-06T05:59:15.399512",
     "status": "completed"
    },
    "tags": []
   },
   "outputs": [],
   "source": []
  }
 ],
 "metadata": {
  "kernelspec": {
   "display_name": "Python 3",
   "language": "python",
   "name": "python3"
  },
  "language_info": {
   "codemirror_mode": {
    "name": "ipython",
    "version": 3
   },
   "file_extension": ".py",
   "mimetype": "text/x-python",
   "name": "python",
   "nbconvert_exporter": "python",
   "pygments_lexer": "ipython3",
   "version": "3.7.6"
  },
  "papermill": {
   "duration": 31636.595024,
   "end_time": "2020-12-06T05:59:16.690829",
   "environment_variables": {},
   "exception": null,
   "input_path": "__notebook__.ipynb",
   "output_path": "__notebook__.ipynb",
   "parameters": {},
   "start_time": "2020-12-05T21:12:00.095805",
   "version": "2.1.0"
  }
 },
 "nbformat": 4,
 "nbformat_minor": 4
}
